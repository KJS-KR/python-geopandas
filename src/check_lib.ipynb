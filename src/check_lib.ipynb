{
 "cells": [
  {
   "cell_type": "markdown",
   "metadata": {},
   "source": [
    "# Geopandas를 활용한 공간데이터 처리"
   ]
  },
  {
   "cell_type": "markdown",
   "metadata": {},
   "source": [
    "## 01. 튜토리얼"
   ]
  },
  {
   "cell_type": "markdown",
   "metadata": {},
   "source": [
    "사용될 라이브러리 설치 및 버전 확인"
   ]
  },
  {
   "cell_type": "code",
   "execution_count": 265,
   "metadata": {},
   "outputs": [
    {
     "name": "stdout",
     "output_type": "stream",
     "text": [
      "2.1.1\n",
      "0.14.0\n",
      "3.8.0\n"
     ]
    }
   ],
   "source": [
    "import pandas as pd\n",
    "import geopandas as gpd\n",
    "import matplotlib\n",
    "import os\n",
    "\n",
    "print(pd.__version__)\n",
    "print(gpd.__version__)\n",
    "print(matplotlib.__version__)"
   ]
  },
  {
   "cell_type": "markdown",
   "metadata": {},
   "source": [
    "기본 데이터 불러오기"
   ]
  },
  {
   "cell_type": "code",
   "execution_count": 266,
   "metadata": {},
   "outputs": [
    {
     "name": "stderr",
     "output_type": "stream",
     "text": [
      "/var/folders/r1/lzjj2s794s7b78859vzpkpd40000gn/T/ipykernel_72691/1493347040.py:1: FutureWarning: The geopandas.dataset module is deprecated and will be removed in GeoPandas 1.0. You can get the original 'naturalearth_lowres' data from https://www.naturalearthdata.com/downloads/110m-cultural-vectors/.\n",
      "  countries = gpd.read_file(gpd.datasets.get_path('naturalearth_lowres'))\n"
     ]
    },
    {
     "data": {
      "text/html": [
       "<div>\n",
       "<style scoped>\n",
       "    .dataframe tbody tr th:only-of-type {\n",
       "        vertical-align: middle;\n",
       "    }\n",
       "\n",
       "    .dataframe tbody tr th {\n",
       "        vertical-align: top;\n",
       "    }\n",
       "\n",
       "    .dataframe thead th {\n",
       "        text-align: right;\n",
       "    }\n",
       "</style>\n",
       "<table border=\"1\" class=\"dataframe\">\n",
       "  <thead>\n",
       "    <tr style=\"text-align: right;\">\n",
       "      <th></th>\n",
       "      <th>pop_est</th>\n",
       "      <th>continent</th>\n",
       "      <th>name</th>\n",
       "      <th>iso_a3</th>\n",
       "      <th>gdp_md_est</th>\n",
       "      <th>geometry</th>\n",
       "    </tr>\n",
       "  </thead>\n",
       "  <tbody>\n",
       "    <tr>\n",
       "      <th>0</th>\n",
       "      <td>889953.0</td>\n",
       "      <td>Oceania</td>\n",
       "      <td>Fiji</td>\n",
       "      <td>FJI</td>\n",
       "      <td>5496</td>\n",
       "      <td>MULTIPOLYGON (((180.00000 -16.06713, 180.00000...</td>\n",
       "    </tr>\n",
       "    <tr>\n",
       "      <th>1</th>\n",
       "      <td>58005463.0</td>\n",
       "      <td>Africa</td>\n",
       "      <td>Tanzania</td>\n",
       "      <td>TZA</td>\n",
       "      <td>63177</td>\n",
       "      <td>POLYGON ((33.90371 -0.95000, 34.07262 -1.05982...</td>\n",
       "    </tr>\n",
       "    <tr>\n",
       "      <th>2</th>\n",
       "      <td>603253.0</td>\n",
       "      <td>Africa</td>\n",
       "      <td>W. Sahara</td>\n",
       "      <td>ESH</td>\n",
       "      <td>907</td>\n",
       "      <td>POLYGON ((-8.66559 27.65643, -8.66512 27.58948...</td>\n",
       "    </tr>\n",
       "    <tr>\n",
       "      <th>3</th>\n",
       "      <td>37589262.0</td>\n",
       "      <td>North America</td>\n",
       "      <td>Canada</td>\n",
       "      <td>CAN</td>\n",
       "      <td>1736425</td>\n",
       "      <td>MULTIPOLYGON (((-122.84000 49.00000, -122.9742...</td>\n",
       "    </tr>\n",
       "    <tr>\n",
       "      <th>4</th>\n",
       "      <td>328239523.0</td>\n",
       "      <td>North America</td>\n",
       "      <td>United States of America</td>\n",
       "      <td>USA</td>\n",
       "      <td>21433226</td>\n",
       "      <td>MULTIPOLYGON (((-122.84000 49.00000, -120.0000...</td>\n",
       "    </tr>\n",
       "  </tbody>\n",
       "</table>\n",
       "</div>"
      ],
      "text/plain": [
       "       pop_est      continent                      name iso_a3  gdp_md_est  \\\n",
       "0     889953.0        Oceania                      Fiji    FJI        5496   \n",
       "1   58005463.0         Africa                  Tanzania    TZA       63177   \n",
       "2     603253.0         Africa                 W. Sahara    ESH         907   \n",
       "3   37589262.0  North America                    Canada    CAN     1736425   \n",
       "4  328239523.0  North America  United States of America    USA    21433226   \n",
       "\n",
       "                                            geometry  \n",
       "0  MULTIPOLYGON (((180.00000 -16.06713, 180.00000...  \n",
       "1  POLYGON ((33.90371 -0.95000, 34.07262 -1.05982...  \n",
       "2  POLYGON ((-8.66559 27.65643, -8.66512 27.58948...  \n",
       "3  MULTIPOLYGON (((-122.84000 49.00000, -122.9742...  \n",
       "4  MULTIPOLYGON (((-122.84000 49.00000, -120.0000...  "
      ]
     },
     "execution_count": 266,
     "metadata": {},
     "output_type": "execute_result"
    }
   ],
   "source": [
    "countries = gpd.read_file(gpd.datasets.get_path('naturalearth_lowres'))\n",
    "countries.head()"
   ]
  },
  {
   "cell_type": "code",
   "execution_count": 267,
   "metadata": {},
   "outputs": [
    {
     "name": "stderr",
     "output_type": "stream",
     "text": [
      "/var/folders/r1/lzjj2s794s7b78859vzpkpd40000gn/T/ipykernel_72691/122148680.py:1: FutureWarning: The geopandas.dataset module is deprecated and will be removed in GeoPandas 1.0. You can get the original 'naturalearth_cities' data from https://www.naturalearthdata.com/downloads/110m-cultural-vectors/.\n",
      "  cities = gpd.read_file(gpd.datasets.get_path('naturalearth_cities'))\n"
     ]
    },
    {
     "data": {
      "text/html": [
       "<div>\n",
       "<style scoped>\n",
       "    .dataframe tbody tr th:only-of-type {\n",
       "        vertical-align: middle;\n",
       "    }\n",
       "\n",
       "    .dataframe tbody tr th {\n",
       "        vertical-align: top;\n",
       "    }\n",
       "\n",
       "    .dataframe thead th {\n",
       "        text-align: right;\n",
       "    }\n",
       "</style>\n",
       "<table border=\"1\" class=\"dataframe\">\n",
       "  <thead>\n",
       "    <tr style=\"text-align: right;\">\n",
       "      <th></th>\n",
       "      <th>name</th>\n",
       "      <th>geometry</th>\n",
       "    </tr>\n",
       "  </thead>\n",
       "  <tbody>\n",
       "    <tr>\n",
       "      <th>0</th>\n",
       "      <td>Vatican City</td>\n",
       "      <td>POINT (12.45339 41.90328)</td>\n",
       "    </tr>\n",
       "    <tr>\n",
       "      <th>1</th>\n",
       "      <td>San Marino</td>\n",
       "      <td>POINT (12.44177 43.93610)</td>\n",
       "    </tr>\n",
       "    <tr>\n",
       "      <th>2</th>\n",
       "      <td>Vaduz</td>\n",
       "      <td>POINT (9.51667 47.13372)</td>\n",
       "    </tr>\n",
       "    <tr>\n",
       "      <th>3</th>\n",
       "      <td>Lobamba</td>\n",
       "      <td>POINT (31.20000 -26.46667)</td>\n",
       "    </tr>\n",
       "    <tr>\n",
       "      <th>4</th>\n",
       "      <td>Luxembourg</td>\n",
       "      <td>POINT (6.13000 49.61166)</td>\n",
       "    </tr>\n",
       "  </tbody>\n",
       "</table>\n",
       "</div>"
      ],
      "text/plain": [
       "           name                    geometry\n",
       "0  Vatican City   POINT (12.45339 41.90328)\n",
       "1    San Marino   POINT (12.44177 43.93610)\n",
       "2         Vaduz    POINT (9.51667 47.13372)\n",
       "3       Lobamba  POINT (31.20000 -26.46667)\n",
       "4    Luxembourg    POINT (6.13000 49.61166)"
      ]
     },
     "execution_count": 267,
     "metadata": {},
     "output_type": "execute_result"
    }
   ],
   "source": [
    "cities = gpd.read_file(gpd.datasets.get_path('naturalearth_cities'))\n",
    "cities.head()"
   ]
  },
  {
   "cell_type": "markdown",
   "metadata": {},
   "source": [
    "세계지도 시각화"
   ]
  },
  {
   "cell_type": "code",
   "execution_count": 268,
   "metadata": {},
   "outputs": [
    {
     "name": "stderr",
     "output_type": "stream",
     "text": [
      "/Users/kjs/.pyenv/versions/3.10.9/envs/gpd/lib/python3.10/site-packages/geopandas/plotting.py:967: UserWarning: Glyph 8722 (\\N{MINUS SIGN}) missing from current font.\n",
      "  plt.draw()\n",
      "/Users/kjs/.pyenv/versions/3.10.9/envs/gpd/lib/python3.10/site-packages/IPython/core/pylabtools.py:152: UserWarning: Glyph 8722 (\\N{MINUS SIGN}) missing from current font.\n",
      "  fig.canvas.print_figure(bytes_io, **kw)\n"
     ]
    },
    {
     "data": {
      "image/png": "[encoded data removed]",
      "text/plain": [
       "<Figure size 640x480 with 1 Axes>"
      ]
     },
     "metadata": {},
     "output_type": "display_data"
    }
   ],
   "source": [
    "import matplotlib.pyplot as plt\n",
    "\n",
    "ax = countries.plot(column='continent', legend=True, categorical=True)\n",
    "ax.set_title(\"World Map\")\n",
    "ax.set_axis_off()\n",
    "\n",
    "plt.show()"
   ]
  },
  {
   "cell_type": "markdown",
   "metadata": {},
   "source": [
    "1인당 GDP 계산 및 시각화"
   ]
  },
  {
   "cell_type": "code",
   "execution_count": 269,
   "metadata": {},
   "outputs": [
    {
     "name": "stderr",
     "output_type": "stream",
     "text": [
      "/Users/kjs/.pyenv/versions/3.10.9/envs/gpd/lib/python3.10/site-packages/geopandas/plotting.py:967: UserWarning: Glyph 8722 (\\N{MINUS SIGN}) missing from current font.\n",
      "  plt.draw()\n",
      "/Users/kjs/.pyenv/versions/3.10.9/envs/gpd/lib/python3.10/site-packages/IPython/core/pylabtools.py:152: UserWarning: Glyph 8722 (\\N{MINUS SIGN}) missing from current font.\n",
      "  fig.canvas.print_figure(bytes_io, **kw)\n"
     ]
    },
    {
     "data": {
      "image/png": "[encoded data removed]",
      "text/plain": [
       "<Figure size 640x480 with 1 Axes>"
      ]
     },
     "metadata": {},
     "output_type": "display_data"
    }
   ],
   "source": [
    "# 1인당 GDP 연산\n",
    "countries['gdp_per_cap'] = countries['gdp_md_est'] / countries['pop_est'] * 100\n",
    "\n",
    "ax = countries.plot(column='gdp_per_cap', legend=True, scheme='quantiles', cmap='Blues', k=5)\n",
    "ax.set_axis_off()\n",
    "ax.set_title(\"GDP per person\")\n",
    "plt.show()"
   ]
  },
  {
   "cell_type": "markdown",
   "metadata": {},
   "source": [
    "백지도 및 주요 도시 시각화"
   ]
  },
  {
   "cell_type": "code",
   "execution_count": 270,
   "metadata": {},
   "outputs": [
    {
     "name": "stderr",
     "output_type": "stream",
     "text": [
      "/Users/kjs/.pyenv/versions/3.10.9/envs/gpd/lib/python3.10/site-packages/geopandas/plotting.py:494: UserWarning: Glyph 8722 (\\N{MINUS SIGN}) missing from current font.\n",
      "  plt.draw()\n",
      "/Users/kjs/.pyenv/versions/3.10.9/envs/gpd/lib/python3.10/site-packages/geopandas/plotting.py:494: UserWarning: Glyph 8722 (\\N{MINUS SIGN}) missing from current font.\n",
      "  plt.draw()\n",
      "/Users/kjs/.pyenv/versions/3.10.9/envs/gpd/lib/python3.10/site-packages/IPython/core/pylabtools.py:152: UserWarning: Glyph 8722 (\\N{MINUS SIGN}) missing from current font.\n",
      "  fig.canvas.print_figure(bytes_io, **kw)\n"
     ]
    },
    {
     "data": {
      "image/png": "[encoded data removed]",
      "text/plain": [
       "<Figure size 640x480 with 1 Axes>"
      ]
     },
     "metadata": {},
     "output_type": "display_data"
    }
   ],
   "source": [
    "base = countries.plot(color='white', edgecolor=\"k\")\n",
    "ax = cities.plot(ax=base, marker='o', color='red', markersize=5)\n",
    "ax.set_axis_off()\n",
    "ax.set_title(\"Cities of World\")\n",
    "\n",
    "plt.show()"
   ]
  },
  {
   "cell_type": "markdown",
   "metadata": {},
   "source": [
    "한국, 서울, 중심점 시각화"
   ]
  },
  {
   "cell_type": "code",
   "execution_count": 271,
   "metadata": {},
   "outputs": [
    {
     "name": "stderr",
     "output_type": "stream",
     "text": [
      "/var/folders/r1/lzjj2s794s7b78859vzpkpd40000gn/T/ipykernel_72691/3333161730.py:3: UserWarning: Geometry is in a geographic CRS. Results from 'centroid' are likely incorrect. Use 'GeoSeries.to_crs()' to re-project geometries to a projected CRS before this operation.\n",
      "\n",
      "  korea_centroid = korea_geometry.centroid.squeeze()\n"
     ]
    },
    {
     "data": {
      "image/png": "[encoded data removed]",
      "text/plain": [
       "<Figure size 500x500 with 1 Axes>"
      ]
     },
     "metadata": {},
     "output_type": "display_data"
    }
   ],
   "source": [
    "korea_geometry = countries[countries.name == \"South Korea\"].geometry\n",
    "korea_boundary = korea_geometry.boundary.squeeze()\n",
    "korea_centroid = korea_geometry.centroid.squeeze()\n",
    "seoul = cities.loc[cities.name == \"Seoul\", \"geometry\"].squeeze()\n",
    "\n",
    "base = countries[countries.name == \"South Korea\"].plot(\n",
    "    figsize=(5, 5), color=\"w\", edgecolor=\"m\")\n",
    "ax = gpd.GeoSeries([korea_boundary, korea_centroid, seoul]).plot(ax=base, color=\"k\", edgecolor='k', lw=1)\n",
    "ax.set_title(\"Korea Centoid, Seoul\")\n",
    "ax.set_axis_off()\n",
    "plt.show()"
   ]
  },
  {
   "cell_type": "markdown",
   "metadata": {},
   "source": [
    "## 2. 데이터 불러오기 및 저장"
   ]
  },
  {
   "cell_type": "markdown",
   "metadata": {},
   "source": [
    "라이브러리 로드 및 경로 설정"
   ]
  },
  {
   "cell_type": "code",
   "execution_count": 272,
   "metadata": {},
   "outputs": [
    {
     "name": "stdout",
     "output_type": "stream",
     "text": [
      "/Users/kjs/Desktop/project/[Tutorial]_geopandas\n"
     ]
    },
    {
     "data": {
      "text/plain": [
       "['LARD_ADM_SECT_SGG_27.dbf',\n",
       " 'LARD_ADM_SECT_SGG_27.shx',\n",
       " 'LARD_ADM_SECT_SGG_27.shp',\n",
       " 'LARD_ADM_SECT_SGG_27.prj']"
      ]
     },
     "execution_count": 272,
     "metadata": {},
     "output_type": "execute_result"
    }
   ],
   "source": [
    "from pathlib import Path\n",
    "\n",
    "BASE_DIR = Path().resolve().parent\n",
    "print(BASE_DIR)\n",
    "\n",
    "ssg_path = BASE_DIR.joinpath(\"data\", \"LARD_ADM_SECT_SGG_대구_02\")\n",
    "ssg_files = os.listdir(ssg_path)\n",
    "ssg_files"
   ]
  },
  {
   "cell_type": "markdown",
   "metadata": {},
   "source": [
    "대구광역시 시군구 데이터 로드"
   ]
  },
  {
   "cell_type": "code",
   "execution_count": 333,
   "metadata": {},
   "outputs": [
    {
     "data": {
      "text/html": [
       "<div>\n",
       "<style scoped>\n",
       "    .dataframe tbody tr th:only-of-type {\n",
       "        vertical-align: middle;\n",
       "    }\n",
       "\n",
       "    .dataframe tbody tr th {\n",
       "        vertical-align: top;\n",
       "    }\n",
       "\n",
       "    .dataframe thead th {\n",
       "        text-align: right;\n",
       "    }\n",
       "</style>\n",
       "<table border=\"1\" class=\"dataframe\">\n",
       "  <thead>\n",
       "    <tr style=\"text-align: right;\">\n",
       "      <th></th>\n",
       "      <th>ADM_SECT_C</th>\n",
       "      <th>SGG_NM</th>\n",
       "      <th>SGG_OID</th>\n",
       "      <th>COL_ADM_SE</th>\n",
       "      <th>GID</th>\n",
       "      <th>geometry</th>\n",
       "    </tr>\n",
       "  </thead>\n",
       "  <tbody>\n",
       "    <tr>\n",
       "      <th>0</th>\n",
       "      <td>27710</td>\n",
       "      <td>달성군</td>\n",
       "      <td>NaN</td>\n",
       "      <td>27710</td>\n",
       "      <td>117</td>\n",
       "      <td>MULTIPOLYGON (((1090134.674 1758418.148, 10902...</td>\n",
       "    </tr>\n",
       "    <tr>\n",
       "      <th>1</th>\n",
       "      <td>27290</td>\n",
       "      <td>달서구</td>\n",
       "      <td>NaN</td>\n",
       "      <td>27290</td>\n",
       "      <td>118</td>\n",
       "      <td>POLYGON ((1092002.026 1764133.847, 1092138.506...</td>\n",
       "    </tr>\n",
       "    <tr>\n",
       "      <th>2</th>\n",
       "      <td>27260</td>\n",
       "      <td>수성구</td>\n",
       "      <td>NaN</td>\n",
       "      <td>27260</td>\n",
       "      <td>119</td>\n",
       "      <td>POLYGON ((1098629.136 1757517.327, 1098692.133...</td>\n",
       "    </tr>\n",
       "    <tr>\n",
       "      <th>3</th>\n",
       "      <td>27230</td>\n",
       "      <td>북구</td>\n",
       "      <td>NaN</td>\n",
       "      <td>27230</td>\n",
       "      <td>120</td>\n",
       "      <td>POLYGON ((1100548.326 1776461.558, 1100558.656...</td>\n",
       "    </tr>\n",
       "    <tr>\n",
       "      <th>4</th>\n",
       "      <td>27200</td>\n",
       "      <td>남구</td>\n",
       "      <td>NaN</td>\n",
       "      <td>27200</td>\n",
       "      <td>121</td>\n",
       "      <td>POLYGON ((1097464.450 1762903.002, 1097774.420...</td>\n",
       "    </tr>\n",
       "    <tr>\n",
       "      <th>5</th>\n",
       "      <td>27170</td>\n",
       "      <td>서구</td>\n",
       "      <td>NaN</td>\n",
       "      <td>27170</td>\n",
       "      <td>122</td>\n",
       "      <td>POLYGON ((1097653.400 1765932.443, 1097584.742...</td>\n",
       "    </tr>\n",
       "    <tr>\n",
       "      <th>6</th>\n",
       "      <td>27140</td>\n",
       "      <td>동구</td>\n",
       "      <td>NaN</td>\n",
       "      <td>27140</td>\n",
       "      <td>123</td>\n",
       "      <td>POLYGON ((1107777.593 1780522.269, 1107845.409...</td>\n",
       "    </tr>\n",
       "    <tr>\n",
       "      <th>7</th>\n",
       "      <td>27110</td>\n",
       "      <td>중구</td>\n",
       "      <td>NaN</td>\n",
       "      <td>27110</td>\n",
       "      <td>124</td>\n",
       "      <td>POLYGON ((1099266.034 1764845.475, 1099328.023...</td>\n",
       "    </tr>\n",
       "    <tr>\n",
       "      <th>8</th>\n",
       "      <td>27200</td>\n",
       "      <td>남구</td>\n",
       "      <td>1.0</td>\n",
       "      <td>27200</td>\n",
       "      <td>264</td>\n",
       "      <td>POLYGON ((1255885.463 2127798.832, 1255906.225...</td>\n",
       "    </tr>\n",
       "  </tbody>\n",
       "</table>\n",
       "</div>"
      ],
      "text/plain": [
       "  ADM_SECT_C SGG_NM  SGG_OID COL_ADM_SE  GID  \\\n",
       "0      27710    달성군      NaN      27710  117   \n",
       "1      27290    달서구      NaN      27290  118   \n",
       "2      27260    수성구      NaN      27260  119   \n",
       "3      27230     북구      NaN      27230  120   \n",
       "4      27200     남구      NaN      27200  121   \n",
       "5      27170     서구      NaN      27170  122   \n",
       "6      27140     동구      NaN      27140  123   \n",
       "7      27110     중구      NaN      27110  124   \n",
       "8      27200     남구      1.0      27200  264   \n",
       "\n",
       "                                            geometry  \n",
       "0  MULTIPOLYGON (((1090134.674 1758418.148, 10902...  \n",
       "1  POLYGON ((1092002.026 1764133.847, 1092138.506...  \n",
       "2  POLYGON ((1098629.136 1757517.327, 1098692.133...  \n",
       "3  POLYGON ((1100548.326 1776461.558, 1100558.656...  \n",
       "4  POLYGON ((1097464.450 1762903.002, 1097774.420...  \n",
       "5  POLYGON ((1097653.400 1765932.443, 1097584.742...  \n",
       "6  POLYGON ((1107777.593 1780522.269, 1107845.409...  \n",
       "7  POLYGON ((1099266.034 1764845.475, 1099328.023...  \n",
       "8  POLYGON ((1255885.463 2127798.832, 1255906.225...  "
      ]
     },
     "execution_count": 333,
     "metadata": {},
     "output_type": "execute_result"
    }
   ],
   "source": [
    "# 행정구역 시군구(S, G, G) 데이터\n",
    "ssg_fname = [v for v in ssg_files if v.split(\".\")[-1] == \"shp\"][0]\n",
    "sgg = gpd.read_file(os.path.join(ssg_path, ssg_fname), encoding=\"EUC-KR\")\n",
    "sgg"
   ]
  },
  {
   "cell_type": "markdown",
   "metadata": {},
   "source": [
    "대구광역시 시군구 데이터 시각화"
   ]
  },
  {
   "cell_type": "code",
   "execution_count": 334,
   "metadata": {},
   "outputs": [
    {
     "data": {
      "image/png": "[encoded data removed]",
      "text/plain": [
       "<Figure size 640x480 with 1 Axes>"
      ]
     },
     "metadata": {},
     "output_type": "display_data"
    }
   ],
   "source": [
    "ax = sgg.plot(column=\"SGG_NM\", categorical=True)\n",
    "ax.set_title(\"Daegu(SGG)\")\n",
    "ax.set_axis_off()\n",
    "plt.show()"
   ]
  },
  {
   "cell_type": "markdown",
   "metadata": {},
   "source": [
    "이상치 제거 후 재 시각화"
   ]
  },
  {
   "cell_type": "code",
   "execution_count": 335,
   "metadata": {},
   "outputs": [
    {
     "data": {
      "text/html": [
       "<div>\n",
       "<style scoped>\n",
       "    .dataframe tbody tr th:only-of-type {\n",
       "        vertical-align: middle;\n",
       "    }\n",
       "\n",
       "    .dataframe tbody tr th {\n",
       "        vertical-align: top;\n",
       "    }\n",
       "\n",
       "    .dataframe thead th {\n",
       "        text-align: right;\n",
       "    }\n",
       "</style>\n",
       "<table border=\"1\" class=\"dataframe\">\n",
       "  <thead>\n",
       "    <tr style=\"text-align: right;\">\n",
       "      <th></th>\n",
       "      <th>ADM_SECT_C</th>\n",
       "      <th>SGG_NM</th>\n",
       "      <th>SGG_OID</th>\n",
       "      <th>COL_ADM_SE</th>\n",
       "      <th>GID</th>\n",
       "      <th>geometry</th>\n",
       "    </tr>\n",
       "  </thead>\n",
       "  <tbody>\n",
       "    <tr>\n",
       "      <th>0</th>\n",
       "      <td>27710</td>\n",
       "      <td>달성군</td>\n",
       "      <td>NaN</td>\n",
       "      <td>27710</td>\n",
       "      <td>117</td>\n",
       "      <td>MULTIPOLYGON (((1090134.674 1758418.148, 10902...</td>\n",
       "    </tr>\n",
       "    <tr>\n",
       "      <th>1</th>\n",
       "      <td>27290</td>\n",
       "      <td>달서구</td>\n",
       "      <td>NaN</td>\n",
       "      <td>27290</td>\n",
       "      <td>118</td>\n",
       "      <td>POLYGON ((1092002.026 1764133.847, 1092138.506...</td>\n",
       "    </tr>\n",
       "    <tr>\n",
       "      <th>2</th>\n",
       "      <td>27260</td>\n",
       "      <td>수성구</td>\n",
       "      <td>NaN</td>\n",
       "      <td>27260</td>\n",
       "      <td>119</td>\n",
       "      <td>POLYGON ((1098629.136 1757517.327, 1098692.133...</td>\n",
       "    </tr>\n",
       "    <tr>\n",
       "      <th>3</th>\n",
       "      <td>27230</td>\n",
       "      <td>북구</td>\n",
       "      <td>NaN</td>\n",
       "      <td>27230</td>\n",
       "      <td>120</td>\n",
       "      <td>POLYGON ((1100548.326 1776461.558, 1100558.656...</td>\n",
       "    </tr>\n",
       "    <tr>\n",
       "      <th>4</th>\n",
       "      <td>27200</td>\n",
       "      <td>남구</td>\n",
       "      <td>NaN</td>\n",
       "      <td>27200</td>\n",
       "      <td>121</td>\n",
       "      <td>POLYGON ((1097464.450 1762903.002, 1097774.420...</td>\n",
       "    </tr>\n",
       "    <tr>\n",
       "      <th>5</th>\n",
       "      <td>27170</td>\n",
       "      <td>서구</td>\n",
       "      <td>NaN</td>\n",
       "      <td>27170</td>\n",
       "      <td>122</td>\n",
       "      <td>POLYGON ((1097653.400 1765932.443, 1097584.742...</td>\n",
       "    </tr>\n",
       "    <tr>\n",
       "      <th>6</th>\n",
       "      <td>27140</td>\n",
       "      <td>동구</td>\n",
       "      <td>NaN</td>\n",
       "      <td>27140</td>\n",
       "      <td>123</td>\n",
       "      <td>POLYGON ((1107777.593 1780522.269, 1107845.409...</td>\n",
       "    </tr>\n",
       "    <tr>\n",
       "      <th>7</th>\n",
       "      <td>27110</td>\n",
       "      <td>중구</td>\n",
       "      <td>NaN</td>\n",
       "      <td>27110</td>\n",
       "      <td>124</td>\n",
       "      <td>POLYGON ((1099266.034 1764845.475, 1099328.023...</td>\n",
       "    </tr>\n",
       "  </tbody>\n",
       "</table>\n",
       "</div>"
      ],
      "text/plain": [
       "  ADM_SECT_C SGG_NM  SGG_OID COL_ADM_SE  GID  \\\n",
       "0      27710    달성군      NaN      27710  117   \n",
       "1      27290    달서구      NaN      27290  118   \n",
       "2      27260    수성구      NaN      27260  119   \n",
       "3      27230     북구      NaN      27230  120   \n",
       "4      27200     남구      NaN      27200  121   \n",
       "5      27170     서구      NaN      27170  122   \n",
       "6      27140     동구      NaN      27140  123   \n",
       "7      27110     중구      NaN      27110  124   \n",
       "\n",
       "                                            geometry  \n",
       "0  MULTIPOLYGON (((1090134.674 1758418.148, 10902...  \n",
       "1  POLYGON ((1092002.026 1764133.847, 1092138.506...  \n",
       "2  POLYGON ((1098629.136 1757517.327, 1098692.133...  \n",
       "3  POLYGON ((1100548.326 1776461.558, 1100558.656...  \n",
       "4  POLYGON ((1097464.450 1762903.002, 1097774.420...  \n",
       "5  POLYGON ((1097653.400 1765932.443, 1097584.742...  \n",
       "6  POLYGON ((1107777.593 1780522.269, 1107845.409...  \n",
       "7  POLYGON ((1099266.034 1764845.475, 1099328.023...  "
      ]
     },
     "execution_count": 335,
     "metadata": {},
     "output_type": "execute_result"
    }
   ],
   "source": [
    "# 이상치 제거\n",
    "ssg = sgg.drop([8], axis=0, inplace=True)\n",
    "sgg"
   ]
  },
  {
   "cell_type": "markdown",
   "metadata": {},
   "source": [
    "대구광역시 시군구 데이터 시각화"
   ]
  },
  {
   "cell_type": "code",
   "execution_count": 336,
   "metadata": {},
   "outputs": [
    {
     "data": {
      "image/png": "[encoded data removed]",
      "text/plain": [
       "<Figure size 640x480 with 1 Axes>"
      ]
     },
     "metadata": {},
     "output_type": "display_data"
    }
   ],
   "source": [
    "ax = sgg.plot(column=\"SGG_NM\", categorical=True)\n",
    "ax.set_title(\"Daegu(SGG)\")\n",
    "ax.set_axis_off()\n",
    "plt.show()"
   ]
  },
  {
   "cell_type": "markdown",
   "metadata": {},
   "source": [
    "좌표계 변환 함수 GeoDataFrame.to_crs()"
   ]
  },
  {
   "cell_type": "code",
   "execution_count": 276,
   "metadata": {},
   "outputs": [
    {
     "data": {
      "text/plain": [
       "<Projected CRS: EPSG:5179>\n",
       "Name: KGD2002 / Unified CS\n",
       "Axis Info [cartesian]:\n",
       "- X[north]: Northing (metre)\n",
       "- Y[east]: Easting (metre)\n",
       "Area of Use:\n",
       "- name: Republic of Korea (South Korea) - onshore and offshore.\n",
       "- bounds: (122.71, 28.6, 134.28, 40.27)\n",
       "Coordinate Operation:\n",
       "- name: Korea Unified Belt\n",
       "- method: Transverse Mercator\n",
       "Datum: Korean Geodetic Datum 2002\n",
       "- Ellipsoid: GRS 1980\n",
       "- Prime Meridian: Greenwich"
      ]
     },
     "execution_count": 276,
     "metadata": {},
     "output_type": "execute_result"
    }
   ],
   "source": [
    "sgg.crs"
   ]
  },
  {
   "cell_type": "code",
   "execution_count": 277,
   "metadata": {},
   "outputs": [
    {
     "data": {
      "text/plain": [
       "<Projected CRS: EPSG:5179>\n",
       "Name: KGD2002 / Unified CS\n",
       "Axis Info [cartesian]:\n",
       "- X[north]: Northing (metre)\n",
       "- Y[east]: Easting (metre)\n",
       "Area of Use:\n",
       "- name: Republic of Korea (South Korea) - onshore and offshore.\n",
       "- bounds: (122.71, 28.6, 134.28, 40.27)\n",
       "Coordinate Operation:\n",
       "- name: Korea Unified Belt\n",
       "- method: Transverse Mercator\n",
       "Datum: Korean Geodetic Datum 2002\n",
       "- Ellipsoid: GRS 1980\n",
       "- Prime Meridian: Greenwich"
      ]
     },
     "execution_count": 277,
     "metadata": {},
     "output_type": "execute_result"
    }
   ],
   "source": [
    "sgg = sgg.to_crs(epsg=5179)\n",
    "sgg.crs"
   ]
  },
  {
   "cell_type": "markdown",
   "metadata": {},
   "source": [
    "GeoDataFrame.to_file()"
   ]
  },
  {
   "cell_type": "markdown",
   "metadata": {},
   "source": [
    "**SHP, Shapefile** : 지리현상에 대한 기하학적 위치, 속성 정보 저장 제공 데이터 포맷 \n",
    "- 2GB 용량 제한, 용량에 따른 속도 저하, 다중 파일 형식, 열 머리글 제한\n",
    "\n",
    "**GPKG , OGC GeoPackage**: SQLite DB 컨테이너 구성 지리정보 데이터 포맷\n",
    "- 높은 호환성, 공간 인덱싱의 고속화, 단일 파일관리, 열 머리글 제한 X\n"
   ]
  },
  {
   "cell_type": "code",
   "execution_count": 278,
   "metadata": {},
   "outputs": [],
   "source": [
    "save_path = BASE_DIR.joinpath(\"data\", \"대구시_시군구_5179.gpkg\")\n",
    "sgg.to_file(save_path, driver=\"GPKG\", encoding=\"UTF-8\")"
   ]
  },
  {
   "cell_type": "markdown",
   "metadata": {},
   "source": [
    "**실습**\n",
    "\n",
    "- 대구시 읍면동(법정동) 파일로드\n",
    "- 시각화 및 좌표계 지정(set_crs() 활용 및 좌표계 ESPG:5186)\n",
    "- 좌표계 변환(좌표계 ESPG:5179)\n",
    "- GPKG 형식으로 저장\n",
    "- 파일명 : 대구시_법정동_5179"
   ]
  },
  {
   "cell_type": "code",
   "execution_count": 279,
   "metadata": {},
   "outputs": [
    {
     "data": {
      "text/plain": [
       "['LSMD_ADM_SECT_UMD_27_202309.shx',\n",
       " 'LSMD_ADM_SECT_UMD_27_202309.cst',\n",
       " 'LSMD_ADM_SECT_UMD_27_202309.shp',\n",
       " 'LSMD_ADM_SECT_UMD_27_202309.dbf',\n",
       " 'LSMD_ADM_SECT_UMD_27_202309.fix',\n",
       " 'LSMD_ADM_SECT_UMD_27_202309.prj']"
      ]
     },
     "execution_count": 279,
     "metadata": {},
     "output_type": "execute_result"
    }
   ],
   "source": [
    "umd_path = BASE_DIR.joinpath(\"data\", \"LSMD_ADM_SECT_UMD_대구\")\n",
    "umd_files = os.listdir(umd_path)\n",
    "umd_files"
   ]
  },
  {
   "cell_type": "code",
   "execution_count": 280,
   "metadata": {},
   "outputs": [
    {
     "data": {
      "text/html": [
       "<div>\n",
       "<style scoped>\n",
       "    .dataframe tbody tr th:only-of-type {\n",
       "        vertical-align: middle;\n",
       "    }\n",
       "\n",
       "    .dataframe tbody tr th {\n",
       "        vertical-align: top;\n",
       "    }\n",
       "\n",
       "    .dataframe thead th {\n",
       "        text-align: right;\n",
       "    }\n",
       "</style>\n",
       "<table border=\"1\" class=\"dataframe\">\n",
       "  <thead>\n",
       "    <tr style=\"text-align: right;\">\n",
       "      <th></th>\n",
       "      <th>EMD_CD</th>\n",
       "      <th>COL_ADM_SE</th>\n",
       "      <th>EMD_NM</th>\n",
       "      <th>SGG_OID</th>\n",
       "      <th>geometry</th>\n",
       "    </tr>\n",
       "  </thead>\n",
       "  <tbody>\n",
       "    <tr>\n",
       "      <th>0</th>\n",
       "      <td>27110101</td>\n",
       "      <td>27110</td>\n",
       "      <td>동인동1가</td>\n",
       "      <td>534</td>\n",
       "      <td>POLYGON ((345103.860 365233.108, 345094.303 36...</td>\n",
       "    </tr>\n",
       "    <tr>\n",
       "      <th>1</th>\n",
       "      <td>27110102</td>\n",
       "      <td>27110</td>\n",
       "      <td>동인동2가</td>\n",
       "      <td>535</td>\n",
       "      <td>POLYGON ((344560.459 364948.036, 344574.310 36...</td>\n",
       "    </tr>\n",
       "    <tr>\n",
       "      <th>2</th>\n",
       "      <td>27110103</td>\n",
       "      <td>27110</td>\n",
       "      <td>동인동3가</td>\n",
       "      <td>536</td>\n",
       "      <td>POLYGON ((345418.388 365374.582, 345463.199 36...</td>\n",
       "    </tr>\n",
       "    <tr>\n",
       "      <th>3</th>\n",
       "      <td>27110104</td>\n",
       "      <td>27110</td>\n",
       "      <td>동인동4가</td>\n",
       "      <td>537</td>\n",
       "      <td>POLYGON ((345797.583 364746.716, 345841.459 36...</td>\n",
       "    </tr>\n",
       "    <tr>\n",
       "      <th>4</th>\n",
       "      <td>27110105</td>\n",
       "      <td>27110</td>\n",
       "      <td>삼덕동1가</td>\n",
       "      <td>538</td>\n",
       "      <td>POLYGON ((344095.651 364613.872, 344134.616 36...</td>\n",
       "    </tr>\n",
       "    <tr>\n",
       "      <th>...</th>\n",
       "      <td>...</td>\n",
       "      <td>...</td>\n",
       "      <td>...</td>\n",
       "      <td>...</td>\n",
       "      <td>...</td>\n",
       "    </tr>\n",
       "    <tr>\n",
       "      <th>207</th>\n",
       "      <td>27720330</td>\n",
       "      <td>27720</td>\n",
       "      <td>부계면</td>\n",
       "      <td>418</td>\n",
       "      <td>POLYGON ((350184.871 393212.197, 350305.933 39...</td>\n",
       "    </tr>\n",
       "    <tr>\n",
       "      <th>208</th>\n",
       "      <td>27720340</td>\n",
       "      <td>27720</td>\n",
       "      <td>우보면</td>\n",
       "      <td>419</td>\n",
       "      <td>POLYGON ((349483.230 403774.201, 349475.930 40...</td>\n",
       "    </tr>\n",
       "    <tr>\n",
       "      <th>209</th>\n",
       "      <td>27720350</td>\n",
       "      <td>27720</td>\n",
       "      <td>의흥면</td>\n",
       "      <td>420</td>\n",
       "      <td>POLYGON ((358107.133 401985.455, 358168.018 40...</td>\n",
       "    </tr>\n",
       "    <tr>\n",
       "      <th>210</th>\n",
       "      <td>27720360</td>\n",
       "      <td>27720</td>\n",
       "      <td>산성면</td>\n",
       "      <td>421</td>\n",
       "      <td>POLYGON ((354838.718 396117.170, 354854.936 39...</td>\n",
       "    </tr>\n",
       "    <tr>\n",
       "      <th>211</th>\n",
       "      <td>27720370</td>\n",
       "      <td>27720</td>\n",
       "      <td>삼국유사면</td>\n",
       "      <td>422</td>\n",
       "      <td>POLYGON ((364242.586 403808.174, 364440.774 40...</td>\n",
       "    </tr>\n",
       "  </tbody>\n",
       "</table>\n",
       "<p>212 rows × 5 columns</p>\n",
       "</div>"
      ],
      "text/plain": [
       "       EMD_CD COL_ADM_SE EMD_NM  SGG_OID  \\\n",
       "0    27110101      27110  동인동1가      534   \n",
       "1    27110102      27110  동인동2가      535   \n",
       "2    27110103      27110  동인동3가      536   \n",
       "3    27110104      27110  동인동4가      537   \n",
       "4    27110105      27110  삼덕동1가      538   \n",
       "..        ...        ...    ...      ...   \n",
       "207  27720330      27720    부계면      418   \n",
       "208  27720340      27720    우보면      419   \n",
       "209  27720350      27720    의흥면      420   \n",
       "210  27720360      27720    산성면      421   \n",
       "211  27720370      27720  삼국유사면      422   \n",
       "\n",
       "                                              geometry  \n",
       "0    POLYGON ((345103.860 365233.108, 345094.303 36...  \n",
       "1    POLYGON ((344560.459 364948.036, 344574.310 36...  \n",
       "2    POLYGON ((345418.388 365374.582, 345463.199 36...  \n",
       "3    POLYGON ((345797.583 364746.716, 345841.459 36...  \n",
       "4    POLYGON ((344095.651 364613.872, 344134.616 36...  \n",
       "..                                                 ...  \n",
       "207  POLYGON ((350184.871 393212.197, 350305.933 39...  \n",
       "208  POLYGON ((349483.230 403774.201, 349475.930 40...  \n",
       "209  POLYGON ((358107.133 401985.455, 358168.018 40...  \n",
       "210  POLYGON ((354838.718 396117.170, 354854.936 39...  \n",
       "211  POLYGON ((364242.586 403808.174, 364440.774 40...  \n",
       "\n",
       "[212 rows x 5 columns]"
      ]
     },
     "execution_count": 280,
     "metadata": {},
     "output_type": "execute_result"
    }
   ],
   "source": [
    "# 행정구역 읍면동(U, M, D) 데이터\n",
    "umd_fname = [v for v in umd_files if v.split(\".\")[-1] == \"shp\"][0]\n",
    "umd = gpd.read_file(os.path.join(umd_path, umd_fname), encoding=\"EUC-KR\")\n",
    "umd"
   ]
  },
  {
   "cell_type": "code",
   "execution_count": 281,
   "metadata": {},
   "outputs": [
    {
     "data": {
      "image/png": "[encoded data removed]",
      "text/plain": [
       "<Figure size 640x480 with 1 Axes>"
      ]
     },
     "metadata": {},
     "output_type": "display_data"
    }
   ],
   "source": [
    "ax = umd.plot(column=\"COL_ADM_SE\", categorical=True)\n",
    "ax.set_title(\"Daegu(EMD)\")\n",
    "ax.set_axis_off()\n",
    "plt.show()"
   ]
  },
  {
   "cell_type": "code",
   "execution_count": 282,
   "metadata": {},
   "outputs": [],
   "source": [
    "# umd = umd.set_crs(epsg=5186)\n",
    "umd = umd.to_crs(epsg=5179)\n",
    "\n",
    "save_path = BASE_DIR.joinpath(\"data\", \"대구시_법정동_5179.gpkg\")\n",
    "umd.to_file(save_path, driver=\"GPKG\", encoding=\"UTF-8\")"
   ]
  },
  {
   "cell_type": "markdown",
   "metadata": {},
   "source": [
    "## 3. 좌표변환"
   ]
  },
  {
   "cell_type": "markdown",
   "metadata": {},
   "source": [
    "CSV 파일 불러오기"
   ]
  },
  {
   "cell_type": "code",
   "execution_count": 283,
   "metadata": {},
   "outputs": [
    {
     "data": {
      "text/html": [
       "<div>\n",
       "<style scoped>\n",
       "    .dataframe tbody tr th:only-of-type {\n",
       "        vertical-align: middle;\n",
       "    }\n",
       "\n",
       "    .dataframe tbody tr th {\n",
       "        vertical-align: top;\n",
       "    }\n",
       "\n",
       "    .dataframe thead th {\n",
       "        text-align: right;\n",
       "    }\n",
       "</style>\n",
       "<table border=\"1\" class=\"dataframe\">\n",
       "  <thead>\n",
       "    <tr style=\"text-align: right;\">\n",
       "      <th></th>\n",
       "      <th>충전소명</th>\n",
       "      <th>주소</th>\n",
       "      <th>ID</th>\n",
       "      <th>충전기 형태</th>\n",
       "      <th>충전기 용량</th>\n",
       "    </tr>\n",
       "  </thead>\n",
       "  <tbody>\n",
       "    <tr>\n",
       "      <th>0</th>\n",
       "      <td>DTC섬유박물관</td>\n",
       "      <td>대구광역시 동구 팔공로 227DTC섬유박물관(봉무동 1560-1)</td>\n",
       "      <td>1</td>\n",
       "      <td>DC차데모+AC3상+DC콤보</td>\n",
       "      <td>50kW</td>\n",
       "    </tr>\n",
       "    <tr>\n",
       "      <th>1</th>\n",
       "      <td>가창면 행정복지센터</td>\n",
       "      <td>대구광역시 달성군 가창면 가창로 1100가창면행정복지센터(82 가창면사무소)</td>\n",
       "      <td>1</td>\n",
       "      <td>AC완속</td>\n",
       "      <td>7kW</td>\n",
       "    </tr>\n",
       "    <tr>\n",
       "      <th>2</th>\n",
       "      <td>갓바위공영3주차장</td>\n",
       "      <td>대구광역시 동구 갓바위로 227갓바위공영3주차장(진인동 123-74 갓바위공영3주차장)</td>\n",
       "      <td>1</td>\n",
       "      <td>AC완속</td>\n",
       "      <td>7kW</td>\n",
       "    </tr>\n",
       "    <tr>\n",
       "      <th>3</th>\n",
       "      <td>갓바위공영3주차장</td>\n",
       "      <td>대구광역시 동구 갓바위로 227갓바위공영3주차장(진인동 123-74 갓바위공영3주차장)</td>\n",
       "      <td>2</td>\n",
       "      <td>AC완속</td>\n",
       "      <td>7kW</td>\n",
       "    </tr>\n",
       "    <tr>\n",
       "      <th>4</th>\n",
       "      <td>갓바위공영3주차장</td>\n",
       "      <td>대구광역시 동구 갓바위로 227갓바위공영3주차장(진인동 123-74 갓바위공영3주차장)</td>\n",
       "      <td>3</td>\n",
       "      <td>AC완속</td>\n",
       "      <td>7kW</td>\n",
       "    </tr>\n",
       "  </tbody>\n",
       "</table>\n",
       "</div>"
      ],
      "text/plain": [
       "         충전소명                                                주소  ID  \\\n",
       "0    DTC섬유박물관              대구광역시 동구 팔공로 227DTC섬유박물관(봉무동 1560-1)   1   \n",
       "1  가창면 행정복지센터        대구광역시 달성군 가창면 가창로 1100가창면행정복지센터(82 가창면사무소)   1   \n",
       "2   갓바위공영3주차장  대구광역시 동구 갓바위로 227갓바위공영3주차장(진인동 123-74 갓바위공영3주차장)   1   \n",
       "3   갓바위공영3주차장  대구광역시 동구 갓바위로 227갓바위공영3주차장(진인동 123-74 갓바위공영3주차장)   2   \n",
       "4   갓바위공영3주차장  대구광역시 동구 갓바위로 227갓바위공영3주차장(진인동 123-74 갓바위공영3주차장)   3   \n",
       "\n",
       "            충전기 형태 충전기 용량  \n",
       "0  DC차데모+AC3상+DC콤보   50kW  \n",
       "1             AC완속    7kW  \n",
       "2             AC완속    7kW  \n",
       "3             AC완속    7kW  \n",
       "4             AC완속    7kW  "
      ]
     },
     "execution_count": 283,
     "metadata": {},
     "output_type": "execute_result"
    }
   ],
   "source": [
    "fname = \"대구광역시_전기차 충전기 구축 현황_20230531.csv\"\n",
    "csv_path = BASE_DIR.joinpath(\"data\", fname)\n",
    "df = pd.read_csv(csv_path, encoding=\"CP949\")\n",
    "df.head()"
   ]
  },
  {
   "cell_type": "code",
   "execution_count": 284,
   "metadata": {},
   "outputs": [
    {
     "data": {
      "text/html": [
       "<div>\n",
       "<style scoped>\n",
       "    .dataframe tbody tr th:only-of-type {\n",
       "        vertical-align: middle;\n",
       "    }\n",
       "\n",
       "    .dataframe tbody tr th {\n",
       "        vertical-align: top;\n",
       "    }\n",
       "\n",
       "    .dataframe thead th {\n",
       "        text-align: right;\n",
       "    }\n",
       "</style>\n",
       "<table border=\"1\" class=\"dataframe\">\n",
       "  <thead>\n",
       "    <tr style=\"text-align: right;\">\n",
       "      <th></th>\n",
       "      <th>정류소아이디</th>\n",
       "      <th>모바일아이디</th>\n",
       "      <th>정류소명</th>\n",
       "      <th>영문명</th>\n",
       "      <th>시도</th>\n",
       "      <th>구군</th>\n",
       "      <th>동</th>\n",
       "      <th>경도</th>\n",
       "      <th>위도</th>\n",
       "      <th>경유노선수</th>\n",
       "      <th>경유노선</th>\n",
       "    </tr>\n",
       "  </thead>\n",
       "  <tbody>\n",
       "    <tr>\n",
       "      <th>0</th>\n",
       "      <td>7051001500</td>\n",
       "      <td>2354</td>\n",
       "      <td>대구공공시설관리공단앞</td>\n",
       "      <td>Daegu Public Facilities Corporation</td>\n",
       "      <td>대구광역시</td>\n",
       "      <td>남구</td>\n",
       "      <td>대명10동</td>\n",
       "      <td>128.560335</td>\n",
       "      <td>35.838405</td>\n",
       "      <td>8</td>\n",
       "      <td>306+518+564+600+623+649+651+서구1</td>\n",
       "    </tr>\n",
       "    <tr>\n",
       "      <th>1</th>\n",
       "      <td>7051003100</td>\n",
       "      <td>2178</td>\n",
       "      <td>대명역(1번출구)</td>\n",
       "      <td>Daemyeong Station</td>\n",
       "      <td>대구광역시</td>\n",
       "      <td>남구</td>\n",
       "      <td>대명10동</td>\n",
       "      <td>128.565153</td>\n",
       "      <td>35.839405</td>\n",
       "      <td>8</td>\n",
       "      <td>306+518+564+600+623+649+651+서구1</td>\n",
       "    </tr>\n",
       "    <tr>\n",
       "      <th>2</th>\n",
       "      <td>7051003300</td>\n",
       "      <td>20031</td>\n",
       "      <td>대명초등학교건너</td>\n",
       "      <td>Daemyeong Elementary School</td>\n",
       "      <td>대구광역시</td>\n",
       "      <td>남구</td>\n",
       "      <td>대명10동</td>\n",
       "      <td>128.568599</td>\n",
       "      <td>35.839578</td>\n",
       "      <td>8</td>\n",
       "      <td>306+518+564+600+623+649+651+서구1</td>\n",
       "    </tr>\n",
       "    <tr>\n",
       "      <th>3</th>\n",
       "      <td>7051003500</td>\n",
       "      <td>2175</td>\n",
       "      <td>KT남대구지사건너1</td>\n",
       "      <td>KT Namdaegu District Office</td>\n",
       "      <td>대구광역시</td>\n",
       "      <td>남구</td>\n",
       "      <td>대명10동</td>\n",
       "      <td>128.572613</td>\n",
       "      <td>35.839436</td>\n",
       "      <td>7</td>\n",
       "      <td>306+518+564+623+649+651+서구1</td>\n",
       "    </tr>\n",
       "    <tr>\n",
       "      <th>4</th>\n",
       "      <td>7051003700</td>\n",
       "      <td>2174</td>\n",
       "      <td>안지랑네거리2</td>\n",
       "      <td>Anjirang (4) Junction</td>\n",
       "      <td>대구광역시</td>\n",
       "      <td>남구</td>\n",
       "      <td>대명10동</td>\n",
       "      <td>128.575223</td>\n",
       "      <td>35.839256</td>\n",
       "      <td>9</td>\n",
       "      <td>306+410-1+518+564+623+649+651+달서4+서구1</td>\n",
       "    </tr>\n",
       "  </tbody>\n",
       "</table>\n",
       "</div>"
      ],
      "text/plain": [
       "       정류소아이디  모바일아이디         정류소명                                  영문명  \\\n",
       "0  7051001500    2354  대구공공시설관리공단앞  Daegu Public Facilities Corporation   \n",
       "1  7051003100    2178    대명역(1번출구)                    Daemyeong Station   \n",
       "2  7051003300   20031     대명초등학교건너          Daemyeong Elementary School   \n",
       "3  7051003500    2175   KT남대구지사건너1          KT Namdaegu District Office   \n",
       "4  7051003700    2174      안지랑네거리2                Anjirang (4) Junction   \n",
       "\n",
       "      시도  구군      동          경도         위도  경유노선수  \\\n",
       "0  대구광역시  남구  대명10동  128.560335  35.838405      8   \n",
       "1  대구광역시  남구  대명10동  128.565153  35.839405      8   \n",
       "2  대구광역시  남구  대명10동  128.568599  35.839578      8   \n",
       "3  대구광역시  남구  대명10동  128.572613  35.839436      7   \n",
       "4  대구광역시  남구  대명10동  128.575223  35.839256      9   \n",
       "\n",
       "                                    경유노선  \n",
       "0        306+518+564+600+623+649+651+서구1  \n",
       "1        306+518+564+600+623+649+651+서구1  \n",
       "2        306+518+564+600+623+649+651+서구1  \n",
       "3            306+518+564+623+649+651+서구1  \n",
       "4  306+410-1+518+564+623+649+651+달서4+서구1  "
      ]
     },
     "execution_count": 284,
     "metadata": {},
     "output_type": "execute_result"
    }
   ],
   "source": [
    "fname = \"대구광역시_시내버스 정류소 위치정보_20230731.csv\"\n",
    "csv_path = BASE_DIR.joinpath(\"data\", fname)\n",
    "df = pd.read_csv(csv_path, encoding=\"CP949\")\n",
    "df.head()"
   ]
  },
  {
   "cell_type": "markdown",
   "metadata": {},
   "source": [
    "geometry 생성 및 GeoDataFrame 변환"
   ]
  },
  {
   "cell_type": "code",
   "execution_count": 285,
   "metadata": {},
   "outputs": [
    {
     "data": {
      "text/html": [
       "<div>\n",
       "<style scoped>\n",
       "    .dataframe tbody tr th:only-of-type {\n",
       "        vertical-align: middle;\n",
       "    }\n",
       "\n",
       "    .dataframe tbody tr th {\n",
       "        vertical-align: top;\n",
       "    }\n",
       "\n",
       "    .dataframe thead th {\n",
       "        text-align: right;\n",
       "    }\n",
       "</style>\n",
       "<table border=\"1\" class=\"dataframe\">\n",
       "  <thead>\n",
       "    <tr style=\"text-align: right;\">\n",
       "      <th></th>\n",
       "      <th>정류소아이디</th>\n",
       "      <th>모바일아이디</th>\n",
       "      <th>정류소명</th>\n",
       "      <th>영문명</th>\n",
       "      <th>시도</th>\n",
       "      <th>구군</th>\n",
       "      <th>동</th>\n",
       "      <th>경도</th>\n",
       "      <th>위도</th>\n",
       "      <th>경유노선수</th>\n",
       "      <th>경유노선</th>\n",
       "      <th>geometry</th>\n",
       "    </tr>\n",
       "  </thead>\n",
       "  <tbody>\n",
       "    <tr>\n",
       "      <th>0</th>\n",
       "      <td>7051001500</td>\n",
       "      <td>2354</td>\n",
       "      <td>대구공공시설관리공단앞</td>\n",
       "      <td>Daegu Public Facilities Corporation</td>\n",
       "      <td>대구광역시</td>\n",
       "      <td>남구</td>\n",
       "      <td>대명10동</td>\n",
       "      <td>128.560335</td>\n",
       "      <td>35.838405</td>\n",
       "      <td>8</td>\n",
       "      <td>306+518+564+600+623+649+651+서구1</td>\n",
       "      <td>POINT (128.56033 35.83841)</td>\n",
       "    </tr>\n",
       "    <tr>\n",
       "      <th>1</th>\n",
       "      <td>7051003100</td>\n",
       "      <td>2178</td>\n",
       "      <td>대명역(1번출구)</td>\n",
       "      <td>Daemyeong Station</td>\n",
       "      <td>대구광역시</td>\n",
       "      <td>남구</td>\n",
       "      <td>대명10동</td>\n",
       "      <td>128.565153</td>\n",
       "      <td>35.839405</td>\n",
       "      <td>8</td>\n",
       "      <td>306+518+564+600+623+649+651+서구1</td>\n",
       "      <td>POINT (128.56515 35.83940)</td>\n",
       "    </tr>\n",
       "    <tr>\n",
       "      <th>2</th>\n",
       "      <td>7051003300</td>\n",
       "      <td>20031</td>\n",
       "      <td>대명초등학교건너</td>\n",
       "      <td>Daemyeong Elementary School</td>\n",
       "      <td>대구광역시</td>\n",
       "      <td>남구</td>\n",
       "      <td>대명10동</td>\n",
       "      <td>128.568599</td>\n",
       "      <td>35.839578</td>\n",
       "      <td>8</td>\n",
       "      <td>306+518+564+600+623+649+651+서구1</td>\n",
       "      <td>POINT (128.56860 35.83958)</td>\n",
       "    </tr>\n",
       "    <tr>\n",
       "      <th>3</th>\n",
       "      <td>7051003500</td>\n",
       "      <td>2175</td>\n",
       "      <td>KT남대구지사건너1</td>\n",
       "      <td>KT Namdaegu District Office</td>\n",
       "      <td>대구광역시</td>\n",
       "      <td>남구</td>\n",
       "      <td>대명10동</td>\n",
       "      <td>128.572613</td>\n",
       "      <td>35.839436</td>\n",
       "      <td>7</td>\n",
       "      <td>306+518+564+623+649+651+서구1</td>\n",
       "      <td>POINT (128.57261 35.83944)</td>\n",
       "    </tr>\n",
       "    <tr>\n",
       "      <th>4</th>\n",
       "      <td>7051003700</td>\n",
       "      <td>2174</td>\n",
       "      <td>안지랑네거리2</td>\n",
       "      <td>Anjirang (4) Junction</td>\n",
       "      <td>대구광역시</td>\n",
       "      <td>남구</td>\n",
       "      <td>대명10동</td>\n",
       "      <td>128.575223</td>\n",
       "      <td>35.839256</td>\n",
       "      <td>9</td>\n",
       "      <td>306+410-1+518+564+623+649+651+달서4+서구1</td>\n",
       "      <td>POINT (128.57522 35.83926)</td>\n",
       "    </tr>\n",
       "  </tbody>\n",
       "</table>\n",
       "</div>"
      ],
      "text/plain": [
       "       정류소아이디  모바일아이디         정류소명                                  영문명  \\\n",
       "0  7051001500    2354  대구공공시설관리공단앞  Daegu Public Facilities Corporation   \n",
       "1  7051003100    2178    대명역(1번출구)                    Daemyeong Station   \n",
       "2  7051003300   20031     대명초등학교건너          Daemyeong Elementary School   \n",
       "3  7051003500    2175   KT남대구지사건너1          KT Namdaegu District Office   \n",
       "4  7051003700    2174      안지랑네거리2                Anjirang (4) Junction   \n",
       "\n",
       "      시도  구군      동          경도         위도  경유노선수  \\\n",
       "0  대구광역시  남구  대명10동  128.560335  35.838405      8   \n",
       "1  대구광역시  남구  대명10동  128.565153  35.839405      8   \n",
       "2  대구광역시  남구  대명10동  128.568599  35.839578      8   \n",
       "3  대구광역시  남구  대명10동  128.572613  35.839436      7   \n",
       "4  대구광역시  남구  대명10동  128.575223  35.839256      9   \n",
       "\n",
       "                                    경유노선                    geometry  \n",
       "0        306+518+564+600+623+649+651+서구1  POINT (128.56033 35.83841)  \n",
       "1        306+518+564+600+623+649+651+서구1  POINT (128.56515 35.83940)  \n",
       "2        306+518+564+600+623+649+651+서구1  POINT (128.56860 35.83958)  \n",
       "3            306+518+564+623+649+651+서구1  POINT (128.57261 35.83944)  \n",
       "4  306+410-1+518+564+623+649+651+달서4+서구1  POINT (128.57522 35.83926)  "
      ]
     },
     "execution_count": 285,
     "metadata": {},
     "output_type": "execute_result"
    }
   ],
   "source": [
    "geometry = gpd.points_from_xy(df['경도'], df['위도'])\n",
    "gdf = gpd.GeoDataFrame(df, geometry=geometry, crs=4326)\n",
    "gdf.head()"
   ]
  },
  {
   "cell_type": "markdown",
   "metadata": {},
   "source": [
    "GPKG 변환 및 저장"
   ]
  },
  {
   "cell_type": "code",
   "execution_count": 286,
   "metadata": {},
   "outputs": [],
   "source": [
    "save_path = BASE_DIR.joinpath(\"data\")\n",
    "fname = \"대구광역시_시내버스 정류소 위치정보_20230731.gpkg\"\n",
    "gdf.to_file(os.path.join(save_path, fname), driver=\"GPKG\", encoding=\"UTF-8\")"
   ]
  },
  {
   "cell_type": "markdown",
   "metadata": {},
   "source": [
    "# 5-1 Geocoding"
   ]
  },
  {
   "cell_type": "markdown",
   "metadata": {},
   "source": [
    "필요 모듈 로드 및 API 호출 세팅"
   ]
  },
  {
   "cell_type": "code",
   "execution_count": 287,
   "metadata": {},
   "outputs": [],
   "source": [
    "import time, requests, json\n",
    "from shapely.geometry import Point"
   ]
  },
  {
   "cell_type": "code",
   "execution_count": 288,
   "metadata": {},
   "outputs": [],
   "source": [
    "# Vworld API 호출문\n",
    "url = \"https://api.vworld.kr/req/address?\"\n",
    "params = {\n",
    "    \"service\": \"address\",\n",
    "    \"request\": \"getcoord\",\n",
    "    \"crs\": \"epsg:4326\",\n",
    "    \"address\": \"판교로 242\",\n",
    "    \"format\": \"json\",\n",
    "    \"type\": \"road\",\n",
    "    \"key\": \"6FD01BEE-B2C2-374E-B7DC-CCD1DE600CFB\",\n",
    "    \"refine\": \"true\"\n",
    "}"
   ]
  },
  {
   "cell_type": "code",
   "execution_count": 289,
   "metadata": {},
   "outputs": [],
   "source": [
    "# Vworld API 호출문\n",
    "url = \"https://api.vworld.kr/req/address?\"\n",
    "params = {\n",
    "    \"service\": \"address\",\n",
    "    \"request\": \"getcoord\",\n",
    "    \"crs\": \"epsg:4326\",\n",
    "    \"address\": \"검단로 255\",\n",
    "    \"format\": \"json\",\n",
    "    \"type\": \"road\",\n",
    "    \"key\": \"6FD01BEE-B2C2-374E-B7DC-CCD1DE600CFB\",\n",
    "    \"refine\": \"true\"\n",
    "}"
   ]
  },
  {
   "cell_type": "markdown",
   "metadata": {},
   "source": [
    "API 호출 및 결과 확인"
   ]
  },
  {
   "cell_type": "code",
   "execution_count": 290,
   "metadata": {},
   "outputs": [
    {
     "name": "stdout",
     "output_type": "stream",
     "text": [
      "status :  200\n"
     ]
    },
    {
     "data": {
      "text/plain": [
       "{'response': {'service': {'name': 'address',\n",
       "   'version': '2.0',\n",
       "   'operation': 'getcoord',\n",
       "   'time': '28(ms)'},\n",
       "  'status': 'OK',\n",
       "  'input': {'type': 'road', 'address': '검단로 255'},\n",
       "  'refined': {'text': '대구광역시 북구 검단로 255 (검단동,민들레아파트)',\n",
       "   'structure': {'level0': '대한민국',\n",
       "    'level1': '대구광역시',\n",
       "    'level2': '북구',\n",
       "    'level3': '검단동',\n",
       "    'level4L': '검단로',\n",
       "    'level4LC': '',\n",
       "    'level4A': '검단동',\n",
       "    'level4AC': '2723068000',\n",
       "    'level5': '255',\n",
       "    'detail': '민들레아파트'}},\n",
       "  'result': {'crs': 'EPSG:4326',\n",
       "   'point': {'x': '128.628241948', 'y': '35.916148737'}}}}"
      ]
     },
     "execution_count": 290,
     "metadata": {},
     "output_type": "execute_result"
    }
   ],
   "source": [
    "req = requests.get(url, params=params)\n",
    "print(\"status : \", req.status_code)\n",
    "\n",
    "data = req.json()\n",
    "data"
   ]
  },
  {
   "cell_type": "markdown",
   "metadata": {},
   "source": [
    "데이터 파싱"
   ]
  },
  {
   "cell_type": "code",
   "execution_count": 291,
   "metadata": {},
   "outputs": [
    {
     "data": {
      "text/plain": [
       "{'crs': 'EPSG:4326', 'point': {'x': '128.628241948', 'y': '35.916148737'}}"
      ]
     },
     "execution_count": 291,
     "metadata": {},
     "output_type": "execute_result"
    }
   ],
   "source": [
    "data[\"response\"][\"result\"]"
   ]
  },
  {
   "cell_type": "code",
   "execution_count": 292,
   "metadata": {},
   "outputs": [
    {
     "data": {
      "text/plain": [
       "{'text': '대구광역시 북구 검단로 255 (검단동,민들레아파트)',\n",
       " 'structure': {'level0': '대한민국',\n",
       "  'level1': '대구광역시',\n",
       "  'level2': '북구',\n",
       "  'level3': '검단동',\n",
       "  'level4L': '검단로',\n",
       "  'level4LC': '',\n",
       "  'level4A': '검단동',\n",
       "  'level4AC': '2723068000',\n",
       "  'level5': '255',\n",
       "  'detail': '민들레아파트'}}"
      ]
     },
     "execution_count": 292,
     "metadata": {},
     "output_type": "execute_result"
    }
   ],
   "source": [
    "data[\"response\"][\"refined\"]"
   ]
  },
  {
   "cell_type": "code",
   "execution_count": 293,
   "metadata": {},
   "outputs": [
    {
     "data": {
      "text/plain": [
       "{'x': '128.628241948', 'y': '35.916148737'}"
      ]
     },
     "execution_count": 293,
     "metadata": {},
     "output_type": "execute_result"
    }
   ],
   "source": [
    "data[\"response\"][\"result\"][\"point\"]"
   ]
  },
  {
   "cell_type": "code",
   "execution_count": 294,
   "metadata": {},
   "outputs": [
    {
     "data": {
      "text/plain": [
       "'128.628241948'"
      ]
     },
     "execution_count": 294,
     "metadata": {},
     "output_type": "execute_result"
    }
   ],
   "source": [
    "data[\"response\"][\"result\"][\"point\"][\"x\"]"
   ]
  },
  {
   "cell_type": "code",
   "execution_count": 295,
   "metadata": {},
   "outputs": [
    {
     "data": {
      "text/plain": [
       "'35.916148737'"
      ]
     },
     "execution_count": 295,
     "metadata": {},
     "output_type": "execute_result"
    }
   ],
   "source": [
    "data[\"response\"][\"result\"][\"point\"][\"y\"]"
   ]
  },
  {
   "cell_type": "markdown",
   "metadata": {},
   "source": [
    "# 5-2. Geocoding - 실습"
   ]
  },
  {
   "cell_type": "markdown",
   "metadata": {},
   "source": [
    "데이터 불러오기"
   ]
  },
  {
   "cell_type": "code",
   "execution_count": 296,
   "metadata": {},
   "outputs": [
    {
     "data": {
      "text/html": [
       "<div>\n",
       "<style scoped>\n",
       "    .dataframe tbody tr th:only-of-type {\n",
       "        vertical-align: middle;\n",
       "    }\n",
       "\n",
       "    .dataframe tbody tr th {\n",
       "        vertical-align: top;\n",
       "    }\n",
       "\n",
       "    .dataframe thead th {\n",
       "        text-align: right;\n",
       "    }\n",
       "</style>\n",
       "<table border=\"1\" class=\"dataframe\">\n",
       "  <thead>\n",
       "    <tr style=\"text-align: right;\">\n",
       "      <th></th>\n",
       "      <th>충전소명</th>\n",
       "      <th>주소</th>\n",
       "      <th>ID</th>\n",
       "      <th>충전기 형태</th>\n",
       "      <th>충전기 용량</th>\n",
       "    </tr>\n",
       "  </thead>\n",
       "  <tbody>\n",
       "    <tr>\n",
       "      <th>0</th>\n",
       "      <td>DTC섬유박물관</td>\n",
       "      <td>대구광역시 동구 팔공로 227DTC섬유박물관(봉무동 1560-1)</td>\n",
       "      <td>1</td>\n",
       "      <td>DC차데모+AC3상+DC콤보</td>\n",
       "      <td>50kW</td>\n",
       "    </tr>\n",
       "    <tr>\n",
       "      <th>1</th>\n",
       "      <td>가창면 행정복지센터</td>\n",
       "      <td>대구광역시 달성군 가창면 가창로 1100가창면행정복지센터(82 가창면사무소)</td>\n",
       "      <td>1</td>\n",
       "      <td>AC완속</td>\n",
       "      <td>7kW</td>\n",
       "    </tr>\n",
       "    <tr>\n",
       "      <th>2</th>\n",
       "      <td>갓바위공영3주차장</td>\n",
       "      <td>대구광역시 동구 갓바위로 227갓바위공영3주차장(진인동 123-74 갓바위공영3주차장)</td>\n",
       "      <td>1</td>\n",
       "      <td>AC완속</td>\n",
       "      <td>7kW</td>\n",
       "    </tr>\n",
       "    <tr>\n",
       "      <th>3</th>\n",
       "      <td>갓바위공영3주차장</td>\n",
       "      <td>대구광역시 동구 갓바위로 227갓바위공영3주차장(진인동 123-74 갓바위공영3주차장)</td>\n",
       "      <td>2</td>\n",
       "      <td>AC완속</td>\n",
       "      <td>7kW</td>\n",
       "    </tr>\n",
       "    <tr>\n",
       "      <th>4</th>\n",
       "      <td>갓바위공영3주차장</td>\n",
       "      <td>대구광역시 동구 갓바위로 227갓바위공영3주차장(진인동 123-74 갓바위공영3주차장)</td>\n",
       "      <td>3</td>\n",
       "      <td>AC완속</td>\n",
       "      <td>7kW</td>\n",
       "    </tr>\n",
       "  </tbody>\n",
       "</table>\n",
       "</div>"
      ],
      "text/plain": [
       "         충전소명                                                주소  ID  \\\n",
       "0    DTC섬유박물관              대구광역시 동구 팔공로 227DTC섬유박물관(봉무동 1560-1)   1   \n",
       "1  가창면 행정복지센터        대구광역시 달성군 가창면 가창로 1100가창면행정복지센터(82 가창면사무소)   1   \n",
       "2   갓바위공영3주차장  대구광역시 동구 갓바위로 227갓바위공영3주차장(진인동 123-74 갓바위공영3주차장)   1   \n",
       "3   갓바위공영3주차장  대구광역시 동구 갓바위로 227갓바위공영3주차장(진인동 123-74 갓바위공영3주차장)   2   \n",
       "4   갓바위공영3주차장  대구광역시 동구 갓바위로 227갓바위공영3주차장(진인동 123-74 갓바위공영3주차장)   3   \n",
       "\n",
       "            충전기 형태 충전기 용량  \n",
       "0  DC차데모+AC3상+DC콤보   50kW  \n",
       "1             AC완속    7kW  \n",
       "2             AC완속    7kW  \n",
       "3             AC완속    7kW  \n",
       "4             AC완속    7kW  "
      ]
     },
     "execution_count": 296,
     "metadata": {},
     "output_type": "execute_result"
    }
   ],
   "source": [
    "fname = \"대구광역시_전기차 충전기 구축 현황_20230531.csv\"\n",
    "csv_path = BASE_DIR.joinpath(\"data\", fname)\n",
    "df = pd.read_csv(csv_path, encoding=\"CP949\")\n",
    "df.head()"
   ]
  },
  {
   "cell_type": "markdown",
   "metadata": {},
   "source": [
    "geocoder 함수 생성"
   ]
  },
  {
   "cell_type": "code",
   "execution_count": 297,
   "metadata": {},
   "outputs": [],
   "source": [
    "import numpy as np\n",
    "\n",
    "def geocoder(address):\n",
    "    x, y = np.NaN, np.NaN\n",
    "    url = \"https://api.vworld.kr/req/address?\"\n",
    "    params = {\n",
    "        \"service\": \"address\",\n",
    "        \"request\": \"getcoord\",\n",
    "        \"crs\" : \"epsg:4326\",\n",
    "        \"address\": str(address),\n",
    "        \"format\": \"json\",\n",
    "        \"type\": \"road\",\n",
    "        \"key\": \"6FD01BEE-B2C2-374E-B7DC-CCD1DE600CFB\",\n",
    "        \"refine\": \"false\"\n",
    "    }\n",
    "    res = requests.get(url, params=params)\n",
    "    if res.status_code == 200:\n",
    "        data = res.json\n",
    "        try:\n",
    "            x = data[\"response\"][\"result\"][\"point\"][\"x\"]\n",
    "            y = data[\"response\"][\"result\"][\"point\"][\"y\"]\n",
    "        except:\n",
    "            pass\n",
    "    return pd.Series([x, y])"
   ]
  },
  {
   "cell_type": "code",
   "execution_count": 298,
   "metadata": {},
   "outputs": [
    {
     "data": {
      "text/plain": [
       "0   NaN\n",
       "1   NaN\n",
       "dtype: float64"
      ]
     },
     "execution_count": 298,
     "metadata": {},
     "output_type": "execute_result"
    }
   ],
   "source": [
    "t = \"대구광역시 동구 팔공로 227DTC섬유박물관(봉무동 1560-1)\"\n",
    "geocoder(t)"
   ]
  },
  {
   "cell_type": "code",
   "execution_count": 299,
   "metadata": {},
   "outputs": [
    {
     "data": {
      "text/html": [
       "<div>\n",
       "<style scoped>\n",
       "    .dataframe tbody tr th:only-of-type {\n",
       "        vertical-align: middle;\n",
       "    }\n",
       "\n",
       "    .dataframe tbody tr th {\n",
       "        vertical-align: top;\n",
       "    }\n",
       "\n",
       "    .dataframe thead th {\n",
       "        text-align: right;\n",
       "    }\n",
       "</style>\n",
       "<table border=\"1\" class=\"dataframe\">\n",
       "  <thead>\n",
       "    <tr style=\"text-align: right;\">\n",
       "      <th></th>\n",
       "      <th>충전소명</th>\n",
       "      <th>주소</th>\n",
       "      <th>ID</th>\n",
       "      <th>충전기 형태</th>\n",
       "      <th>충전기 용량</th>\n",
       "      <th>x</th>\n",
       "      <th>y</th>\n",
       "    </tr>\n",
       "  </thead>\n",
       "  <tbody>\n",
       "    <tr>\n",
       "      <th>0</th>\n",
       "      <td>DTC섬유박물관</td>\n",
       "      <td>대구광역시 동구 팔공로 227DTC섬유박물관(봉무동 1560-1)</td>\n",
       "      <td>1</td>\n",
       "      <td>DC차데모+AC3상+DC콤보</td>\n",
       "      <td>50kW</td>\n",
       "      <td>NaN</td>\n",
       "      <td>NaN</td>\n",
       "    </tr>\n",
       "    <tr>\n",
       "      <th>1</th>\n",
       "      <td>가창면 행정복지센터</td>\n",
       "      <td>대구광역시 달성군 가창면 가창로 1100가창면행정복지센터(82 가창면사무소)</td>\n",
       "      <td>1</td>\n",
       "      <td>AC완속</td>\n",
       "      <td>7kW</td>\n",
       "      <td>NaN</td>\n",
       "      <td>NaN</td>\n",
       "    </tr>\n",
       "    <tr>\n",
       "      <th>2</th>\n",
       "      <td>갓바위공영3주차장</td>\n",
       "      <td>대구광역시 동구 갓바위로 227갓바위공영3주차장(진인동 123-74 갓바위공영3주차장)</td>\n",
       "      <td>1</td>\n",
       "      <td>AC완속</td>\n",
       "      <td>7kW</td>\n",
       "      <td>NaN</td>\n",
       "      <td>NaN</td>\n",
       "    </tr>\n",
       "    <tr>\n",
       "      <th>3</th>\n",
       "      <td>갓바위공영3주차장</td>\n",
       "      <td>대구광역시 동구 갓바위로 227갓바위공영3주차장(진인동 123-74 갓바위공영3주차장)</td>\n",
       "      <td>2</td>\n",
       "      <td>AC완속</td>\n",
       "      <td>7kW</td>\n",
       "      <td>NaN</td>\n",
       "      <td>NaN</td>\n",
       "    </tr>\n",
       "    <tr>\n",
       "      <th>4</th>\n",
       "      <td>갓바위공영3주차장</td>\n",
       "      <td>대구광역시 동구 갓바위로 227갓바위공영3주차장(진인동 123-74 갓바위공영3주차장)</td>\n",
       "      <td>3</td>\n",
       "      <td>AC완속</td>\n",
       "      <td>7kW</td>\n",
       "      <td>NaN</td>\n",
       "      <td>NaN</td>\n",
       "    </tr>\n",
       "  </tbody>\n",
       "</table>\n",
       "</div>"
      ],
      "text/plain": [
       "         충전소명                                                주소  ID  \\\n",
       "0    DTC섬유박물관              대구광역시 동구 팔공로 227DTC섬유박물관(봉무동 1560-1)   1   \n",
       "1  가창면 행정복지센터        대구광역시 달성군 가창면 가창로 1100가창면행정복지센터(82 가창면사무소)   1   \n",
       "2   갓바위공영3주차장  대구광역시 동구 갓바위로 227갓바위공영3주차장(진인동 123-74 갓바위공영3주차장)   1   \n",
       "3   갓바위공영3주차장  대구광역시 동구 갓바위로 227갓바위공영3주차장(진인동 123-74 갓바위공영3주차장)   2   \n",
       "4   갓바위공영3주차장  대구광역시 동구 갓바위로 227갓바위공영3주차장(진인동 123-74 갓바위공영3주차장)   3   \n",
       "\n",
       "            충전기 형태 충전기 용량   x   y  \n",
       "0  DC차데모+AC3상+DC콤보   50kW NaN NaN  \n",
       "1             AC완속    7kW NaN NaN  \n",
       "2             AC완속    7kW NaN NaN  \n",
       "3             AC완속    7kW NaN NaN  \n",
       "4             AC완속    7kW NaN NaN  "
      ]
     },
     "execution_count": 299,
     "metadata": {},
     "output_type": "execute_result"
    }
   ],
   "source": [
    "df[[\"x\", \"y\"]] = df[\"주소\"].apply(geocoder)\n",
    "df.head()"
   ]
  },
  {
   "cell_type": "markdown",
   "metadata": {},
   "source": [
    "geocoding 실패 주소 파일로 변환"
   ]
  },
  {
   "cell_type": "code",
   "execution_count": 300,
   "metadata": {},
   "outputs": [
    {
     "data": {
      "text/html": [
       "<div>\n",
       "<style scoped>\n",
       "    .dataframe tbody tr th:only-of-type {\n",
       "        vertical-align: middle;\n",
       "    }\n",
       "\n",
       "    .dataframe tbody tr th {\n",
       "        vertical-align: top;\n",
       "    }\n",
       "\n",
       "    .dataframe thead th {\n",
       "        text-align: right;\n",
       "    }\n",
       "</style>\n",
       "<table border=\"1\" class=\"dataframe\">\n",
       "  <thead>\n",
       "    <tr style=\"text-align: right;\">\n",
       "      <th></th>\n",
       "      <th>충전소명</th>\n",
       "      <th>주소</th>\n",
       "      <th>ID</th>\n",
       "      <th>충전기 형태</th>\n",
       "      <th>충전기 용량</th>\n",
       "      <th>x</th>\n",
       "      <th>y</th>\n",
       "    </tr>\n",
       "  </thead>\n",
       "  <tbody>\n",
       "    <tr>\n",
       "      <th>0</th>\n",
       "      <td>DTC섬유박물관</td>\n",
       "      <td>대구광역시 동구 팔공로 227DTC섬유박물관(봉무동 1560-1)</td>\n",
       "      <td>1</td>\n",
       "      <td>DC차데모+AC3상+DC콤보</td>\n",
       "      <td>50kW</td>\n",
       "      <td>NaN</td>\n",
       "      <td>NaN</td>\n",
       "    </tr>\n",
       "    <tr>\n",
       "      <th>1</th>\n",
       "      <td>가창면 행정복지센터</td>\n",
       "      <td>대구광역시 달성군 가창면 가창로 1100가창면행정복지센터(82 가창면사무소)</td>\n",
       "      <td>1</td>\n",
       "      <td>AC완속</td>\n",
       "      <td>7kW</td>\n",
       "      <td>NaN</td>\n",
       "      <td>NaN</td>\n",
       "    </tr>\n",
       "    <tr>\n",
       "      <th>2</th>\n",
       "      <td>갓바위공영3주차장</td>\n",
       "      <td>대구광역시 동구 갓바위로 227갓바위공영3주차장(진인동 123-74 갓바위공영3주차장)</td>\n",
       "      <td>1</td>\n",
       "      <td>AC완속</td>\n",
       "      <td>7kW</td>\n",
       "      <td>NaN</td>\n",
       "      <td>NaN</td>\n",
       "    </tr>\n",
       "    <tr>\n",
       "      <th>3</th>\n",
       "      <td>갓바위공영3주차장</td>\n",
       "      <td>대구광역시 동구 갓바위로 227갓바위공영3주차장(진인동 123-74 갓바위공영3주차장)</td>\n",
       "      <td>2</td>\n",
       "      <td>AC완속</td>\n",
       "      <td>7kW</td>\n",
       "      <td>NaN</td>\n",
       "      <td>NaN</td>\n",
       "    </tr>\n",
       "    <tr>\n",
       "      <th>4</th>\n",
       "      <td>갓바위공영3주차장</td>\n",
       "      <td>대구광역시 동구 갓바위로 227갓바위공영3주차장(진인동 123-74 갓바위공영3주차장)</td>\n",
       "      <td>3</td>\n",
       "      <td>AC완속</td>\n",
       "      <td>7kW</td>\n",
       "      <td>NaN</td>\n",
       "      <td>NaN</td>\n",
       "    </tr>\n",
       "  </tbody>\n",
       "</table>\n",
       "</div>"
      ],
      "text/plain": [
       "         충전소명                                                주소  ID  \\\n",
       "0    DTC섬유박물관              대구광역시 동구 팔공로 227DTC섬유박물관(봉무동 1560-1)   1   \n",
       "1  가창면 행정복지센터        대구광역시 달성군 가창면 가창로 1100가창면행정복지센터(82 가창면사무소)   1   \n",
       "2   갓바위공영3주차장  대구광역시 동구 갓바위로 227갓바위공영3주차장(진인동 123-74 갓바위공영3주차장)   1   \n",
       "3   갓바위공영3주차장  대구광역시 동구 갓바위로 227갓바위공영3주차장(진인동 123-74 갓바위공영3주차장)   2   \n",
       "4   갓바위공영3주차장  대구광역시 동구 갓바위로 227갓바위공영3주차장(진인동 123-74 갓바위공영3주차장)   3   \n",
       "\n",
       "            충전기 형태 충전기 용량   x   y  \n",
       "0  DC차데모+AC3상+DC콤보   50kW NaN NaN  \n",
       "1             AC완속    7kW NaN NaN  \n",
       "2             AC완속    7kW NaN NaN  \n",
       "3             AC완속    7kW NaN NaN  \n",
       "4             AC완속    7kW NaN NaN  "
      ]
     },
     "execution_count": 300,
     "metadata": {},
     "output_type": "execute_result"
    }
   ],
   "source": [
    "fail = df[df[\"x\"].isna()]\n",
    "fail.head()"
   ]
  },
  {
   "cell_type": "code",
   "execution_count": 301,
   "metadata": {},
   "outputs": [
    {
     "name": "stdout",
     "output_type": "stream",
     "text": [
      "/Users/kjs/Desktop/project/[Tutorial]_geopandas/data\n"
     ]
    }
   ],
   "source": [
    "print(save_path)\n",
    "fail.to_csv(os.path.join(save_path, \"fail.csv\"), index=False)"
   ]
  },
  {
   "cell_type": "markdown",
   "metadata": {},
   "source": [
    "다운로드 및 data 폴더로 이동 후 데이터 불러오기"
   ]
  },
  {
   "cell_type": "code",
   "execution_count": 302,
   "metadata": {},
   "outputs": [
    {
     "data": {
      "text/html": [
       "<div>\n",
       "<style scoped>\n",
       "    .dataframe tbody tr th:only-of-type {\n",
       "        vertical-align: middle;\n",
       "    }\n",
       "\n",
       "    .dataframe tbody tr th {\n",
       "        vertical-align: top;\n",
       "    }\n",
       "\n",
       "    .dataframe thead th {\n",
       "        text-align: right;\n",
       "    }\n",
       "</style>\n",
       "<table border=\"1\" class=\"dataframe\">\n",
       "  <thead>\n",
       "    <tr style=\"text-align: right;\">\n",
       "      <th></th>\n",
       "      <th>충전소명</th>\n",
       "      <th>주소</th>\n",
       "      <th>Latitude</th>\n",
       "      <th>Longitude</th>\n",
       "      <th>ID</th>\n",
       "      <th>충전기 형태</th>\n",
       "      <th>충전기 용량</th>\n",
       "      <th>x</th>\n",
       "      <th>y</th>\n",
       "    </tr>\n",
       "  </thead>\n",
       "  <tbody>\n",
       "    <tr>\n",
       "      <th>0</th>\n",
       "      <td>DTC섬유박물관</td>\n",
       "      <td>대구광역시 동구 팔공로 227DTC섬유박물관(봉무동 1560-1)</td>\n",
       "      <td>35.919199</td>\n",
       "      <td>128.640025</td>\n",
       "      <td>1</td>\n",
       "      <td>DC차데모+AC3상+DC콤보</td>\n",
       "      <td>50kW</td>\n",
       "      <td>NaN</td>\n",
       "      <td>NaN</td>\n",
       "    </tr>\n",
       "    <tr>\n",
       "      <th>1</th>\n",
       "      <td>가창면 행정복지센터</td>\n",
       "      <td>대구광역시 달성군 가창면 가창로 1100가창면행정복지센터(82 가창면사무소)</td>\n",
       "      <td>35.802585</td>\n",
       "      <td>128.622956</td>\n",
       "      <td>1</td>\n",
       "      <td>AC완속</td>\n",
       "      <td>7kW</td>\n",
       "      <td>NaN</td>\n",
       "      <td>NaN</td>\n",
       "    </tr>\n",
       "    <tr>\n",
       "      <th>2</th>\n",
       "      <td>갓바위공영3주차장</td>\n",
       "      <td>대구광역시 동구 갓바위로 227갓바위공영3주차장(진인동 123-74 갓바위공영3주차장)</td>\n",
       "      <td>35.971134</td>\n",
       "      <td>128.725650</td>\n",
       "      <td>1</td>\n",
       "      <td>AC완속</td>\n",
       "      <td>7kW</td>\n",
       "      <td>NaN</td>\n",
       "      <td>NaN</td>\n",
       "    </tr>\n",
       "    <tr>\n",
       "      <th>3</th>\n",
       "      <td>갓바위공영3주차장</td>\n",
       "      <td>대구광역시 동구 갓바위로 227갓바위공영3주차장(진인동 123-74 갓바위공영3주차장)</td>\n",
       "      <td>35.971134</td>\n",
       "      <td>128.725650</td>\n",
       "      <td>2</td>\n",
       "      <td>AC완속</td>\n",
       "      <td>7kW</td>\n",
       "      <td>NaN</td>\n",
       "      <td>NaN</td>\n",
       "    </tr>\n",
       "    <tr>\n",
       "      <th>4</th>\n",
       "      <td>갓바위공영3주차장</td>\n",
       "      <td>대구광역시 동구 갓바위로 227갓바위공영3주차장(진인동 123-74 갓바위공영3주차장)</td>\n",
       "      <td>35.971134</td>\n",
       "      <td>128.725650</td>\n",
       "      <td>3</td>\n",
       "      <td>AC완속</td>\n",
       "      <td>7kW</td>\n",
       "      <td>NaN</td>\n",
       "      <td>NaN</td>\n",
       "    </tr>\n",
       "  </tbody>\n",
       "</table>\n",
       "</div>"
      ],
      "text/plain": [
       "         충전소명                                                주소   Latitude  \\\n",
       "0    DTC섬유박물관              대구광역시 동구 팔공로 227DTC섬유박물관(봉무동 1560-1)  35.919199   \n",
       "1  가창면 행정복지센터        대구광역시 달성군 가창면 가창로 1100가창면행정복지센터(82 가창면사무소)  35.802585   \n",
       "2   갓바위공영3주차장  대구광역시 동구 갓바위로 227갓바위공영3주차장(진인동 123-74 갓바위공영3주차장)  35.971134   \n",
       "3   갓바위공영3주차장  대구광역시 동구 갓바위로 227갓바위공영3주차장(진인동 123-74 갓바위공영3주차장)  35.971134   \n",
       "4   갓바위공영3주차장  대구광역시 동구 갓바위로 227갓바위공영3주차장(진인동 123-74 갓바위공영3주차장)  35.971134   \n",
       "\n",
       "    Longitude  ID           충전기 형태 충전기 용량   x   y  \n",
       "0  128.640025   1  DC차데모+AC3상+DC콤보   50kW NaN NaN  \n",
       "1  128.622956   1             AC완속    7kW NaN NaN  \n",
       "2  128.725650   1             AC완속    7kW NaN NaN  \n",
       "3  128.725650   2             AC완속    7kW NaN NaN  \n",
       "4  128.725650   3             AC완속    7kW NaN NaN  "
      ]
     },
     "execution_count": 302,
     "metadata": {},
     "output_type": "execute_result"
    }
   ],
   "source": [
    "data_dir = BASE_DIR.joinpath(\"data\")\n",
    "fail = pd.read_csv(os.path.join(data_dir, \"fail - fail.csv\"))\n",
    "fail.head()"
   ]
  },
  {
   "cell_type": "markdown",
   "metadata": {},
   "source": [
    "열 삭제 및 이름 변경"
   ]
  },
  {
   "cell_type": "code",
   "execution_count": 303,
   "metadata": {},
   "outputs": [
    {
     "data": {
      "text/html": [
       "<div>\n",
       "<style scoped>\n",
       "    .dataframe tbody tr th:only-of-type {\n",
       "        vertical-align: middle;\n",
       "    }\n",
       "\n",
       "    .dataframe tbody tr th {\n",
       "        vertical-align: top;\n",
       "    }\n",
       "\n",
       "    .dataframe thead th {\n",
       "        text-align: right;\n",
       "    }\n",
       "</style>\n",
       "<table border=\"1\" class=\"dataframe\">\n",
       "  <thead>\n",
       "    <tr style=\"text-align: right;\">\n",
       "      <th></th>\n",
       "      <th>충전소명</th>\n",
       "      <th>주소</th>\n",
       "      <th>y</th>\n",
       "      <th>x</th>\n",
       "      <th>ID</th>\n",
       "      <th>충전기 형태</th>\n",
       "      <th>충전기 용량</th>\n",
       "    </tr>\n",
       "  </thead>\n",
       "  <tbody>\n",
       "    <tr>\n",
       "      <th>0</th>\n",
       "      <td>DTC섬유박물관</td>\n",
       "      <td>대구광역시 동구 팔공로 227DTC섬유박물관(봉무동 1560-1)</td>\n",
       "      <td>35.919199</td>\n",
       "      <td>128.640025</td>\n",
       "      <td>1</td>\n",
       "      <td>DC차데모+AC3상+DC콤보</td>\n",
       "      <td>50kW</td>\n",
       "    </tr>\n",
       "    <tr>\n",
       "      <th>1</th>\n",
       "      <td>가창면 행정복지센터</td>\n",
       "      <td>대구광역시 달성군 가창면 가창로 1100가창면행정복지센터(82 가창면사무소)</td>\n",
       "      <td>35.802585</td>\n",
       "      <td>128.622956</td>\n",
       "      <td>1</td>\n",
       "      <td>AC완속</td>\n",
       "      <td>7kW</td>\n",
       "    </tr>\n",
       "    <tr>\n",
       "      <th>2</th>\n",
       "      <td>갓바위공영3주차장</td>\n",
       "      <td>대구광역시 동구 갓바위로 227갓바위공영3주차장(진인동 123-74 갓바위공영3주차장)</td>\n",
       "      <td>35.971134</td>\n",
       "      <td>128.725650</td>\n",
       "      <td>1</td>\n",
       "      <td>AC완속</td>\n",
       "      <td>7kW</td>\n",
       "    </tr>\n",
       "    <tr>\n",
       "      <th>3</th>\n",
       "      <td>갓바위공영3주차장</td>\n",
       "      <td>대구광역시 동구 갓바위로 227갓바위공영3주차장(진인동 123-74 갓바위공영3주차장)</td>\n",
       "      <td>35.971134</td>\n",
       "      <td>128.725650</td>\n",
       "      <td>2</td>\n",
       "      <td>AC완속</td>\n",
       "      <td>7kW</td>\n",
       "    </tr>\n",
       "    <tr>\n",
       "      <th>4</th>\n",
       "      <td>갓바위공영3주차장</td>\n",
       "      <td>대구광역시 동구 갓바위로 227갓바위공영3주차장(진인동 123-74 갓바위공영3주차장)</td>\n",
       "      <td>35.971134</td>\n",
       "      <td>128.725650</td>\n",
       "      <td>3</td>\n",
       "      <td>AC완속</td>\n",
       "      <td>7kW</td>\n",
       "    </tr>\n",
       "  </tbody>\n",
       "</table>\n",
       "</div>"
      ],
      "text/plain": [
       "         충전소명                                                주소          y  \\\n",
       "0    DTC섬유박물관              대구광역시 동구 팔공로 227DTC섬유박물관(봉무동 1560-1)  35.919199   \n",
       "1  가창면 행정복지센터        대구광역시 달성군 가창면 가창로 1100가창면행정복지센터(82 가창면사무소)  35.802585   \n",
       "2   갓바위공영3주차장  대구광역시 동구 갓바위로 227갓바위공영3주차장(진인동 123-74 갓바위공영3주차장)  35.971134   \n",
       "3   갓바위공영3주차장  대구광역시 동구 갓바위로 227갓바위공영3주차장(진인동 123-74 갓바위공영3주차장)  35.971134   \n",
       "4   갓바위공영3주차장  대구광역시 동구 갓바위로 227갓바위공영3주차장(진인동 123-74 갓바위공영3주차장)  35.971134   \n",
       "\n",
       "            x  ID           충전기 형태 충전기 용량  \n",
       "0  128.640025   1  DC차데모+AC3상+DC콤보   50kW  \n",
       "1  128.622956   1             AC완속    7kW  \n",
       "2  128.725650   1             AC완속    7kW  \n",
       "3  128.725650   2             AC완속    7kW  \n",
       "4  128.725650   3             AC완속    7kW  "
      ]
     },
     "execution_count": 303,
     "metadata": {},
     "output_type": "execute_result"
    }
   ],
   "source": [
    "fail = fail.drop([\"x\", \"y\"], axis=1)\n",
    "fail = fail.rename(columns={\"Latitude\": \"y\", \"Longitude\": \"x\"},)\n",
    "fail.head()"
   ]
  },
  {
   "cell_type": "markdown",
   "metadata": {},
   "source": [
    "Vworld Geocoding 성공 결과물과 결합"
   ]
  },
  {
   "cell_type": "code",
   "execution_count": 304,
   "metadata": {},
   "outputs": [
    {
     "data": {
      "text/html": [
       "<div>\n",
       "<style scoped>\n",
       "    .dataframe tbody tr th:only-of-type {\n",
       "        vertical-align: middle;\n",
       "    }\n",
       "\n",
       "    .dataframe tbody tr th {\n",
       "        vertical-align: top;\n",
       "    }\n",
       "\n",
       "    .dataframe thead th {\n",
       "        text-align: right;\n",
       "    }\n",
       "</style>\n",
       "<table border=\"1\" class=\"dataframe\">\n",
       "  <thead>\n",
       "    <tr style=\"text-align: right;\">\n",
       "      <th></th>\n",
       "      <th>충전소명</th>\n",
       "      <th>주소</th>\n",
       "      <th>ID</th>\n",
       "      <th>충전기 형태</th>\n",
       "      <th>충전기 용량</th>\n",
       "      <th>x</th>\n",
       "      <th>y</th>\n",
       "    </tr>\n",
       "  </thead>\n",
       "  <tbody>\n",
       "    <tr>\n",
       "      <th>0</th>\n",
       "      <td>DTC섬유박물관</td>\n",
       "      <td>대구광역시 동구 팔공로 227DTC섬유박물관(봉무동 1560-1)</td>\n",
       "      <td>1</td>\n",
       "      <td>DC차데모+AC3상+DC콤보</td>\n",
       "      <td>50kW</td>\n",
       "      <td>128.640025</td>\n",
       "      <td>35.919199</td>\n",
       "    </tr>\n",
       "    <tr>\n",
       "      <th>1</th>\n",
       "      <td>가창면 행정복지센터</td>\n",
       "      <td>대구광역시 달성군 가창면 가창로 1100가창면행정복지센터(82 가창면사무소)</td>\n",
       "      <td>1</td>\n",
       "      <td>AC완속</td>\n",
       "      <td>7kW</td>\n",
       "      <td>128.622956</td>\n",
       "      <td>35.802585</td>\n",
       "    </tr>\n",
       "    <tr>\n",
       "      <th>2</th>\n",
       "      <td>갓바위공영3주차장</td>\n",
       "      <td>대구광역시 동구 갓바위로 227갓바위공영3주차장(진인동 123-74 갓바위공영3주차장)</td>\n",
       "      <td>1</td>\n",
       "      <td>AC완속</td>\n",
       "      <td>7kW</td>\n",
       "      <td>128.725650</td>\n",
       "      <td>35.971134</td>\n",
       "    </tr>\n",
       "    <tr>\n",
       "      <th>3</th>\n",
       "      <td>갓바위공영3주차장</td>\n",
       "      <td>대구광역시 동구 갓바위로 227갓바위공영3주차장(진인동 123-74 갓바위공영3주차장)</td>\n",
       "      <td>2</td>\n",
       "      <td>AC완속</td>\n",
       "      <td>7kW</td>\n",
       "      <td>128.725650</td>\n",
       "      <td>35.971134</td>\n",
       "    </tr>\n",
       "    <tr>\n",
       "      <th>4</th>\n",
       "      <td>갓바위공영3주차장</td>\n",
       "      <td>대구광역시 동구 갓바위로 227갓바위공영3주차장(진인동 123-74 갓바위공영3주차장)</td>\n",
       "      <td>3</td>\n",
       "      <td>AC완속</td>\n",
       "      <td>7kW</td>\n",
       "      <td>128.725650</td>\n",
       "      <td>35.971134</td>\n",
       "    </tr>\n",
       "  </tbody>\n",
       "</table>\n",
       "</div>"
      ],
      "text/plain": [
       "         충전소명                                                주소  ID  \\\n",
       "0    DTC섬유박물관              대구광역시 동구 팔공로 227DTC섬유박물관(봉무동 1560-1)   1   \n",
       "1  가창면 행정복지센터        대구광역시 달성군 가창면 가창로 1100가창면행정복지센터(82 가창면사무소)   1   \n",
       "2   갓바위공영3주차장  대구광역시 동구 갓바위로 227갓바위공영3주차장(진인동 123-74 갓바위공영3주차장)   1   \n",
       "3   갓바위공영3주차장  대구광역시 동구 갓바위로 227갓바위공영3주차장(진인동 123-74 갓바위공영3주차장)   2   \n",
       "4   갓바위공영3주차장  대구광역시 동구 갓바위로 227갓바위공영3주차장(진인동 123-74 갓바위공영3주차장)   3   \n",
       "\n",
       "            충전기 형태 충전기 용량           x          y  \n",
       "0  DC차데모+AC3상+DC콤보   50kW  128.640025  35.919199  \n",
       "1             AC완속    7kW  128.622956  35.802585  \n",
       "2             AC완속    7kW  128.725650  35.971134  \n",
       "3             AC완속    7kW  128.725650  35.971134  \n",
       "4             AC완속    7kW  128.725650  35.971134  "
      ]
     },
     "execution_count": 304,
     "metadata": {},
     "output_type": "execute_result"
    }
   ],
   "source": [
    "df = df[df[\"x\"].notna()]\n",
    "result = pd.concat([df, fail], axis=0)\n",
    "result.head()"
   ]
  },
  {
   "cell_type": "markdown",
   "metadata": {},
   "source": [
    "Geometry 생성 및 좌표계 설정"
   ]
  },
  {
   "cell_type": "code",
   "execution_count": 305,
   "metadata": {},
   "outputs": [
    {
     "data": {
      "text/html": [
       "<div>\n",
       "<style scoped>\n",
       "    .dataframe tbody tr th:only-of-type {\n",
       "        vertical-align: middle;\n",
       "    }\n",
       "\n",
       "    .dataframe tbody tr th {\n",
       "        vertical-align: top;\n",
       "    }\n",
       "\n",
       "    .dataframe thead th {\n",
       "        text-align: right;\n",
       "    }\n",
       "</style>\n",
       "<table border=\"1\" class=\"dataframe\">\n",
       "  <thead>\n",
       "    <tr style=\"text-align: right;\">\n",
       "      <th></th>\n",
       "      <th>충전소명</th>\n",
       "      <th>주소</th>\n",
       "      <th>ID</th>\n",
       "      <th>충전기 형태</th>\n",
       "      <th>충전기 용량</th>\n",
       "      <th>x</th>\n",
       "      <th>y</th>\n",
       "      <th>geometry</th>\n",
       "    </tr>\n",
       "  </thead>\n",
       "  <tbody>\n",
       "    <tr>\n",
       "      <th>0</th>\n",
       "      <td>DTC섬유박물관</td>\n",
       "      <td>대구광역시 동구 팔공로 227DTC섬유박물관(봉무동 1560-1)</td>\n",
       "      <td>1</td>\n",
       "      <td>DC차데모+AC3상+DC콤보</td>\n",
       "      <td>50kW</td>\n",
       "      <td>128.640025</td>\n",
       "      <td>35.919199</td>\n",
       "      <td>POINT (128.64002 35.91920)</td>\n",
       "    </tr>\n",
       "    <tr>\n",
       "      <th>1</th>\n",
       "      <td>가창면 행정복지센터</td>\n",
       "      <td>대구광역시 달성군 가창면 가창로 1100가창면행정복지센터(82 가창면사무소)</td>\n",
       "      <td>1</td>\n",
       "      <td>AC완속</td>\n",
       "      <td>7kW</td>\n",
       "      <td>128.622956</td>\n",
       "      <td>35.802585</td>\n",
       "      <td>POINT (128.62296 35.80259)</td>\n",
       "    </tr>\n",
       "    <tr>\n",
       "      <th>2</th>\n",
       "      <td>갓바위공영3주차장</td>\n",
       "      <td>대구광역시 동구 갓바위로 227갓바위공영3주차장(진인동 123-74 갓바위공영3주차장)</td>\n",
       "      <td>1</td>\n",
       "      <td>AC완속</td>\n",
       "      <td>7kW</td>\n",
       "      <td>128.725650</td>\n",
       "      <td>35.971134</td>\n",
       "      <td>POINT (128.72565 35.97113)</td>\n",
       "    </tr>\n",
       "    <tr>\n",
       "      <th>3</th>\n",
       "      <td>갓바위공영3주차장</td>\n",
       "      <td>대구광역시 동구 갓바위로 227갓바위공영3주차장(진인동 123-74 갓바위공영3주차장)</td>\n",
       "      <td>2</td>\n",
       "      <td>AC완속</td>\n",
       "      <td>7kW</td>\n",
       "      <td>128.725650</td>\n",
       "      <td>35.971134</td>\n",
       "      <td>POINT (128.72565 35.97113)</td>\n",
       "    </tr>\n",
       "    <tr>\n",
       "      <th>4</th>\n",
       "      <td>갓바위공영3주차장</td>\n",
       "      <td>대구광역시 동구 갓바위로 227갓바위공영3주차장(진인동 123-74 갓바위공영3주차장)</td>\n",
       "      <td>3</td>\n",
       "      <td>AC완속</td>\n",
       "      <td>7kW</td>\n",
       "      <td>128.725650</td>\n",
       "      <td>35.971134</td>\n",
       "      <td>POINT (128.72565 35.97113)</td>\n",
       "    </tr>\n",
       "  </tbody>\n",
       "</table>\n",
       "</div>"
      ],
      "text/plain": [
       "         충전소명                                                주소  ID  \\\n",
       "0    DTC섬유박물관              대구광역시 동구 팔공로 227DTC섬유박물관(봉무동 1560-1)   1   \n",
       "1  가창면 행정복지센터        대구광역시 달성군 가창면 가창로 1100가창면행정복지센터(82 가창면사무소)   1   \n",
       "2   갓바위공영3주차장  대구광역시 동구 갓바위로 227갓바위공영3주차장(진인동 123-74 갓바위공영3주차장)   1   \n",
       "3   갓바위공영3주차장  대구광역시 동구 갓바위로 227갓바위공영3주차장(진인동 123-74 갓바위공영3주차장)   2   \n",
       "4   갓바위공영3주차장  대구광역시 동구 갓바위로 227갓바위공영3주차장(진인동 123-74 갓바위공영3주차장)   3   \n",
       "\n",
       "            충전기 형태 충전기 용량           x          y                    geometry  \n",
       "0  DC차데모+AC3상+DC콤보   50kW  128.640025  35.919199  POINT (128.64002 35.91920)  \n",
       "1             AC완속    7kW  128.622956  35.802585  POINT (128.62296 35.80259)  \n",
       "2             AC완속    7kW  128.725650  35.971134  POINT (128.72565 35.97113)  \n",
       "3             AC완속    7kW  128.725650  35.971134  POINT (128.72565 35.97113)  \n",
       "4             AC완속    7kW  128.725650  35.971134  POINT (128.72565 35.97113)  "
      ]
     },
     "execution_count": 305,
     "metadata": {},
     "output_type": "execute_result"
    }
   ],
   "source": [
    "geometry = gpd.points_from_xy(result['x'], result['y'])\n",
    "gdf = gpd.GeoDataFrame(result, geometry=geometry, crs=4326)\n",
    "gdf.head()"
   ]
  },
  {
   "cell_type": "markdown",
   "metadata": {},
   "source": [
    "GPKG 형태로 저장"
   ]
  },
  {
   "cell_type": "code",
   "execution_count": 306,
   "metadata": {},
   "outputs": [],
   "source": [
    "fname = \"대구광역시_전기차 충전기 구축 현황_20230531.gpkg\"\n",
    "gdf.to_file(os.path.join(save_path, fname), driver=\"GPKG\", encoding=\"UTF=8\")"
   ]
  },
  {
   "cell_type": "markdown",
   "metadata": {},
   "source": [
    "# 6. 위치기반 결합"
   ]
  },
  {
   "cell_type": "markdown",
   "metadata": {},
   "source": [
    "모듈 및 데이터 가져오기"
   ]
  },
  {
   "cell_type": "code",
   "execution_count": 307,
   "metadata": {},
   "outputs": [
    {
     "data": {
      "text/html": [
       "<div>\n",
       "<style scoped>\n",
       "    .dataframe tbody tr th:only-of-type {\n",
       "        vertical-align: middle;\n",
       "    }\n",
       "\n",
       "    .dataframe tbody tr th {\n",
       "        vertical-align: top;\n",
       "    }\n",
       "\n",
       "    .dataframe thead th {\n",
       "        text-align: right;\n",
       "    }\n",
       "</style>\n",
       "<table border=\"1\" class=\"dataframe\">\n",
       "  <thead>\n",
       "    <tr style=\"text-align: right;\">\n",
       "      <th></th>\n",
       "      <th>충전소명</th>\n",
       "      <th>주소</th>\n",
       "      <th>ID</th>\n",
       "      <th>충전기 형태</th>\n",
       "      <th>충전기 용량</th>\n",
       "      <th>x</th>\n",
       "      <th>y</th>\n",
       "      <th>geometry</th>\n",
       "    </tr>\n",
       "  </thead>\n",
       "  <tbody>\n",
       "    <tr>\n",
       "      <th>0</th>\n",
       "      <td>DTC섬유박물관</td>\n",
       "      <td>대구광역시 동구 팔공로 227DTC섬유박물관(봉무동 1560-1)</td>\n",
       "      <td>1</td>\n",
       "      <td>DC차데모+AC3상+DC콤보</td>\n",
       "      <td>50kW</td>\n",
       "      <td>128.640025</td>\n",
       "      <td>35.919199</td>\n",
       "      <td>POINT (128.64002 35.91920)</td>\n",
       "    </tr>\n",
       "    <tr>\n",
       "      <th>1</th>\n",
       "      <td>가창면 행정복지센터</td>\n",
       "      <td>대구광역시 달성군 가창면 가창로 1100가창면행정복지센터(82 가창면사무소)</td>\n",
       "      <td>1</td>\n",
       "      <td>AC완속</td>\n",
       "      <td>7kW</td>\n",
       "      <td>128.622956</td>\n",
       "      <td>35.802585</td>\n",
       "      <td>POINT (128.62296 35.80259)</td>\n",
       "    </tr>\n",
       "    <tr>\n",
       "      <th>2</th>\n",
       "      <td>갓바위공영3주차장</td>\n",
       "      <td>대구광역시 동구 갓바위로 227갓바위공영3주차장(진인동 123-74 갓바위공영3주차장)</td>\n",
       "      <td>1</td>\n",
       "      <td>AC완속</td>\n",
       "      <td>7kW</td>\n",
       "      <td>128.725650</td>\n",
       "      <td>35.971134</td>\n",
       "      <td>POINT (128.72565 35.97113)</td>\n",
       "    </tr>\n",
       "    <tr>\n",
       "      <th>3</th>\n",
       "      <td>갓바위공영3주차장</td>\n",
       "      <td>대구광역시 동구 갓바위로 227갓바위공영3주차장(진인동 123-74 갓바위공영3주차장)</td>\n",
       "      <td>2</td>\n",
       "      <td>AC완속</td>\n",
       "      <td>7kW</td>\n",
       "      <td>128.725650</td>\n",
       "      <td>35.971134</td>\n",
       "      <td>POINT (128.72565 35.97113)</td>\n",
       "    </tr>\n",
       "    <tr>\n",
       "      <th>4</th>\n",
       "      <td>갓바위공영3주차장</td>\n",
       "      <td>대구광역시 동구 갓바위로 227갓바위공영3주차장(진인동 123-74 갓바위공영3주차장)</td>\n",
       "      <td>3</td>\n",
       "      <td>AC완속</td>\n",
       "      <td>7kW</td>\n",
       "      <td>128.725650</td>\n",
       "      <td>35.971134</td>\n",
       "      <td>POINT (128.72565 35.97113)</td>\n",
       "    </tr>\n",
       "  </tbody>\n",
       "</table>\n",
       "</div>"
      ],
      "text/plain": [
       "         충전소명                                                주소  ID  \\\n",
       "0    DTC섬유박물관              대구광역시 동구 팔공로 227DTC섬유박물관(봉무동 1560-1)   1   \n",
       "1  가창면 행정복지센터        대구광역시 달성군 가창면 가창로 1100가창면행정복지센터(82 가창면사무소)   1   \n",
       "2   갓바위공영3주차장  대구광역시 동구 갓바위로 227갓바위공영3주차장(진인동 123-74 갓바위공영3주차장)   1   \n",
       "3   갓바위공영3주차장  대구광역시 동구 갓바위로 227갓바위공영3주차장(진인동 123-74 갓바위공영3주차장)   2   \n",
       "4   갓바위공영3주차장  대구광역시 동구 갓바위로 227갓바위공영3주차장(진인동 123-74 갓바위공영3주차장)   3   \n",
       "\n",
       "            충전기 형태 충전기 용량           x          y                    geometry  \n",
       "0  DC차데모+AC3상+DC콤보   50kW  128.640025  35.919199  POINT (128.64002 35.91920)  \n",
       "1             AC완속    7kW  128.622956  35.802585  POINT (128.62296 35.80259)  \n",
       "2             AC완속    7kW  128.725650  35.971134  POINT (128.72565 35.97113)  \n",
       "3             AC완속    7kW  128.725650  35.971134  POINT (128.72565 35.97113)  \n",
       "4             AC완속    7kW  128.725650  35.971134  POINT (128.72565 35.97113)  "
      ]
     },
     "execution_count": 307,
     "metadata": {},
     "output_type": "execute_result"
    }
   ],
   "source": [
    "data = gpd.read_file(os.path.join(save_path, \"대구광역시_전기차 충전기 구축 현황_20230531.gpkg\"))\n",
    "sgg = gpd.read_file(os.path.join(save_path, \"대구시_시군구_5179.gpkg\"))\n",
    "bjd = gpd.read_file(os.path.join(save_path, \"대구시_법정동_5179.gpkg\"))\n",
    "data.head(5)"
   ]
  },
  {
   "cell_type": "markdown",
   "metadata": {},
   "source": [
    "데이터 시각화"
   ]
  },
  {
   "cell_type": "code",
   "execution_count": 308,
   "metadata": {},
   "outputs": [],
   "source": [
    "# Matplotlib 한글 폰트 깨짐 현상 해결\n",
    "from hangle_font import set_hangle_font\n",
    "\n",
    "set_hangle_font()"
   ]
  },
  {
   "cell_type": "code",
   "execution_count": 309,
   "metadata": {},
   "outputs": [
    {
     "data": {
      "image/png": "[encoded data removed]",
      "text/plain": [
       "<Figure size 640x480 with 1 Axes>"
      ]
     },
     "metadata": {},
     "output_type": "display_data"
    }
   ],
   "source": [
    "ax = data.plot()\n",
    "ax.set_title(\"전기자동차 충전소\")\n",
    "ax.set_axis_off()\n",
    "plt.show()"
   ]
  },
  {
   "cell_type": "markdown",
   "metadata": {},
   "source": [
    "데이터 시각화(충전기 용량별)"
   ]
  },
  {
   "cell_type": "code",
   "execution_count": 310,
   "metadata": {},
   "outputs": [
    {
     "data": {
      "text/plain": [
       "<function matplotlib.pyplot.show(close=None, block=None)>"
      ]
     },
     "execution_count": 310,
     "metadata": {},
     "output_type": "execute_result"
    },
    {
     "data": {
      "image/png": "[encoded data removed]",
      "text/plain": [
       "<Figure size 640x480 with 1 Axes>"
      ]
     },
     "metadata": {},
     "output_type": "display_data"
    }
   ],
   "source": [
    "ax = data.plot(column=\"충전기 용량\", legend=True, categorical=True)\n",
    "ax.set_title(\"Charger in Daegu\")\n",
    "ax.set_axis_off()\n",
    "plt.show"
   ]
  },
  {
   "cell_type": "markdown",
   "metadata": {},
   "source": [
    "데이터 시각화(시군구 + 충전소)"
   ]
  },
  {
   "cell_type": "code",
   "execution_count": 311,
   "metadata": {},
   "outputs": [
    {
     "data": {
      "image/png": "[encoded data removed]",
      "text/plain": [
       "<Figure size 640x480 with 1 Axes>"
      ]
     },
     "metadata": {},
     "output_type": "display_data"
    }
   ],
   "source": [
    "base = sgg.plot(color=\"white\", edgecolor=\"k\")\n",
    "ax = data.plot(ax=base)\n",
    "ax.set_title(\"Shops in Daegu\")\n",
    "ax.set_axis_off()\n",
    "plt.show()"
   ]
  },
  {
   "cell_type": "markdown",
   "metadata": {},
   "source": [
    "**위와 같은 결과가 나온 이유**\n",
    "- 시군구 데이터와 충전소 데이터의 좌표계가 맞지 않아 서로 이격됨"
   ]
  },
  {
   "cell_type": "markdown",
   "metadata": {},
   "source": [
    "좌표계 확인"
   ]
  },
  {
   "cell_type": "code",
   "execution_count": 312,
   "metadata": {},
   "outputs": [
    {
     "data": {
      "text/plain": [
       "<Geographic 2D CRS: EPSG:4326>\n",
       "Name: WGS 84\n",
       "Axis Info [ellipsoidal]:\n",
       "- Lat[north]: Geodetic latitude (degree)\n",
       "- Lon[east]: Geodetic longitude (degree)\n",
       "Area of Use:\n",
       "- name: World.\n",
       "- bounds: (-180.0, -90.0, 180.0, 90.0)\n",
       "Datum: World Geodetic System 1984 ensemble\n",
       "- Ellipsoid: WGS 84\n",
       "- Prime Meridian: Greenwich"
      ]
     },
     "execution_count": 312,
     "metadata": {},
     "output_type": "execute_result"
    }
   ],
   "source": [
    "data.crs"
   ]
  },
  {
   "cell_type": "code",
   "execution_count": 313,
   "metadata": {},
   "outputs": [
    {
     "data": {
      "text/plain": [
       "<Projected CRS: EPSG:5179>\n",
       "Name: KGD2002 / Unified CS\n",
       "Axis Info [cartesian]:\n",
       "- [north]: Northing (metre)\n",
       "- [east]: Easting (metre)\n",
       "Area of Use:\n",
       "- undefined\n",
       "Coordinate Operation:\n",
       "- name: unnamed\n",
       "- method: Transverse Mercator\n",
       "Datum: Korean Geodetic Datum 2002\n",
       "- Ellipsoid: GRS 1980\n",
       "- Prime Meridian: Greenwich"
      ]
     },
     "execution_count": 313,
     "metadata": {},
     "output_type": "execute_result"
    }
   ],
   "source": [
    "sgg.crs"
   ]
  },
  {
   "cell_type": "code",
   "execution_count": 314,
   "metadata": {},
   "outputs": [
    {
     "data": {
      "text/plain": [
       "<Projected CRS: EPSG:5179>\n",
       "Name: KGD2002 / Unified CS\n",
       "Axis Info [cartesian]:\n",
       "- X[north]: Northing (metre)\n",
       "- Y[east]: Easting (metre)\n",
       "Area of Use:\n",
       "- name: Republic of Korea (South Korea) - onshore and offshore.\n",
       "- bounds: (122.71, 28.6, 134.28, 40.27)\n",
       "Coordinate Operation:\n",
       "- name: Korea Unified Belt\n",
       "- method: Transverse Mercator\n",
       "Datum: Korean Geodetic Datum 2002\n",
       "- Ellipsoid: GRS 1980\n",
       "- Prime Meridian: Greenwich"
      ]
     },
     "execution_count": 314,
     "metadata": {},
     "output_type": "execute_result"
    }
   ],
   "source": [
    "data = data.to_crs(epsg=5179)\n",
    "data.crs"
   ]
  },
  {
   "cell_type": "markdown",
   "metadata": {},
   "source": [
    "재 시각화"
   ]
  },
  {
   "cell_type": "code",
   "execution_count": 315,
   "metadata": {},
   "outputs": [
    {
     "data": {
      "image/png": "[encoded data removed]",
      "text/plain": [
       "<Figure size 640x480 with 1 Axes>"
      ]
     },
     "metadata": {},
     "output_type": "display_data"
    }
   ],
   "source": [
    "base = sgg.plot(color='white', edgecolor=\"k\")\n",
    "ax = data.plot(ax=base)\n",
    "ax.set_title(\"대구시 전기자동차 충전소\")\n",
    "ax.set_axis_off()\n",
    "plt.show()"
   ]
  },
  {
   "cell_type": "markdown",
   "metadata": {},
   "source": [
    "sgg ID 부여"
   ]
  },
  {
   "cell_type": "code",
   "execution_count": 318,
   "metadata": {},
   "outputs": [
    {
     "data": {
      "text/html": [
       "<div>\n",
       "<style scoped>\n",
       "    .dataframe tbody tr th:only-of-type {\n",
       "        vertical-align: middle;\n",
       "    }\n",
       "\n",
       "    .dataframe tbody tr th {\n",
       "        vertical-align: top;\n",
       "    }\n",
       "\n",
       "    .dataframe thead th {\n",
       "        text-align: right;\n",
       "    }\n",
       "</style>\n",
       "<table border=\"1\" class=\"dataframe\">\n",
       "  <thead>\n",
       "    <tr style=\"text-align: right;\">\n",
       "      <th></th>\n",
       "      <th>ADM_SECT_C</th>\n",
       "      <th>SGG_NM</th>\n",
       "      <th>SGG_OID</th>\n",
       "      <th>COL_ADM_SE</th>\n",
       "      <th>GID</th>\n",
       "      <th>geometry</th>\n",
       "      <th>id</th>\n",
       "    </tr>\n",
       "  </thead>\n",
       "  <tbody>\n",
       "    <tr>\n",
       "      <th>0</th>\n",
       "      <td>27710</td>\n",
       "      <td>달성군</td>\n",
       "      <td>None</td>\n",
       "      <td>27710</td>\n",
       "      <td>117</td>\n",
       "      <td>MULTIPOLYGON (((1090134.674 1758418.148, 10902...</td>\n",
       "      <td>0</td>\n",
       "    </tr>\n",
       "    <tr>\n",
       "      <th>1</th>\n",
       "      <td>27290</td>\n",
       "      <td>달서구</td>\n",
       "      <td>None</td>\n",
       "      <td>27290</td>\n",
       "      <td>118</td>\n",
       "      <td>POLYGON ((1092002.026 1764133.847, 1092138.506...</td>\n",
       "      <td>1</td>\n",
       "    </tr>\n",
       "    <tr>\n",
       "      <th>2</th>\n",
       "      <td>27260</td>\n",
       "      <td>수성구</td>\n",
       "      <td>None</td>\n",
       "      <td>27260</td>\n",
       "      <td>119</td>\n",
       "      <td>POLYGON ((1098629.136 1757517.327, 1098692.133...</td>\n",
       "      <td>2</td>\n",
       "    </tr>\n",
       "    <tr>\n",
       "      <th>3</th>\n",
       "      <td>27230</td>\n",
       "      <td>북구</td>\n",
       "      <td>None</td>\n",
       "      <td>27230</td>\n",
       "      <td>120</td>\n",
       "      <td>POLYGON ((1100548.326 1776461.558, 1100558.656...</td>\n",
       "      <td>3</td>\n",
       "    </tr>\n",
       "    <tr>\n",
       "      <th>4</th>\n",
       "      <td>27200</td>\n",
       "      <td>남구</td>\n",
       "      <td>None</td>\n",
       "      <td>27200</td>\n",
       "      <td>121</td>\n",
       "      <td>POLYGON ((1097464.450 1762903.002, 1097774.420...</td>\n",
       "      <td>4</td>\n",
       "    </tr>\n",
       "    <tr>\n",
       "      <th>5</th>\n",
       "      <td>27170</td>\n",
       "      <td>서구</td>\n",
       "      <td>None</td>\n",
       "      <td>27170</td>\n",
       "      <td>122</td>\n",
       "      <td>POLYGON ((1097653.400 1765932.443, 1097584.742...</td>\n",
       "      <td>5</td>\n",
       "    </tr>\n",
       "    <tr>\n",
       "      <th>6</th>\n",
       "      <td>27140</td>\n",
       "      <td>동구</td>\n",
       "      <td>None</td>\n",
       "      <td>27140</td>\n",
       "      <td>123</td>\n",
       "      <td>POLYGON ((1107777.593 1780522.269, 1107845.409...</td>\n",
       "      <td>6</td>\n",
       "    </tr>\n",
       "    <tr>\n",
       "      <th>7</th>\n",
       "      <td>27110</td>\n",
       "      <td>중구</td>\n",
       "      <td>None</td>\n",
       "      <td>27110</td>\n",
       "      <td>124</td>\n",
       "      <td>POLYGON ((1099266.034 1764845.475, 1099328.023...</td>\n",
       "      <td>7</td>\n",
       "    </tr>\n",
       "  </tbody>\n",
       "</table>\n",
       "</div>"
      ],
      "text/plain": [
       "  ADM_SECT_C SGG_NM SGG_OID COL_ADM_SE  GID  \\\n",
       "0      27710    달성군    None      27710  117   \n",
       "1      27290    달서구    None      27290  118   \n",
       "2      27260    수성구    None      27260  119   \n",
       "3      27230     북구    None      27230  120   \n",
       "4      27200     남구    None      27200  121   \n",
       "5      27170     서구    None      27170  122   \n",
       "6      27140     동구    None      27140  123   \n",
       "7      27110     중구    None      27110  124   \n",
       "\n",
       "                                            geometry  id  \n",
       "0  MULTIPOLYGON (((1090134.674 1758418.148, 10902...   0  \n",
       "1  POLYGON ((1092002.026 1764133.847, 1092138.506...   1  \n",
       "2  POLYGON ((1098629.136 1757517.327, 1098692.133...   2  \n",
       "3  POLYGON ((1100548.326 1776461.558, 1100558.656...   3  \n",
       "4  POLYGON ((1097464.450 1762903.002, 1097774.420...   4  \n",
       "5  POLYGON ((1097653.400 1765932.443, 1097584.742...   5  \n",
       "6  POLYGON ((1107777.593 1780522.269, 1107845.409...   6  \n",
       "7  POLYGON ((1099266.034 1764845.475, 1099328.023...   7  "
      ]
     },
     "execution_count": 318,
     "metadata": {},
     "output_type": "execute_result"
    }
   ],
   "source": [
    "sgg[\"id\"] = sgg.index\n",
    "sgg"
   ]
  },
  {
   "cell_type": "markdown",
   "metadata": {},
   "source": [
    "위치기반 결합"
   ]
  },
  {
   "cell_type": "code",
   "execution_count": 320,
   "metadata": {},
   "outputs": [
    {
     "data": {
      "text/html": [
       "<div>\n",
       "<style scoped>\n",
       "    .dataframe tbody tr th:only-of-type {\n",
       "        vertical-align: middle;\n",
       "    }\n",
       "\n",
       "    .dataframe tbody tr th {\n",
       "        vertical-align: top;\n",
       "    }\n",
       "\n",
       "    .dataframe thead th {\n",
       "        text-align: right;\n",
       "    }\n",
       "</style>\n",
       "<table border=\"1\" class=\"dataframe\">\n",
       "  <thead>\n",
       "    <tr style=\"text-align: right;\">\n",
       "      <th></th>\n",
       "      <th>충전소명</th>\n",
       "      <th>주소</th>\n",
       "      <th>ID</th>\n",
       "      <th>충전기 형태</th>\n",
       "      <th>충전기 용량</th>\n",
       "      <th>x</th>\n",
       "      <th>y</th>\n",
       "      <th>geometry</th>\n",
       "      <th>index_right</th>\n",
       "      <th>id</th>\n",
       "    </tr>\n",
       "  </thead>\n",
       "  <tbody>\n",
       "    <tr>\n",
       "      <th>0</th>\n",
       "      <td>DTC섬유박물관</td>\n",
       "      <td>대구광역시 동구 팔공로 227DTC섬유박물관(봉무동 1560-1)</td>\n",
       "      <td>1</td>\n",
       "      <td>DC차데모+AC3상+DC콤보</td>\n",
       "      <td>50kW</td>\n",
       "      <td>128.640025</td>\n",
       "      <td>35.919199</td>\n",
       "      <td>POINT (1102854.579 1769771.861)</td>\n",
       "      <td>6.0</td>\n",
       "      <td>6.0</td>\n",
       "    </tr>\n",
       "    <tr>\n",
       "      <th>1</th>\n",
       "      <td>가창면 행정복지센터</td>\n",
       "      <td>대구광역시 달성군 가창면 가창로 1100가창면행정복지센터(82 가창면사무소)</td>\n",
       "      <td>1</td>\n",
       "      <td>AC완속</td>\n",
       "      <td>7kW</td>\n",
       "      <td>128.622956</td>\n",
       "      <td>35.802585</td>\n",
       "      <td>POINT (1101463.068 1756819.334)</td>\n",
       "      <td>0.0</td>\n",
       "      <td>0.0</td>\n",
       "    </tr>\n",
       "    <tr>\n",
       "      <th>2</th>\n",
       "      <td>갓바위공영3주차장</td>\n",
       "      <td>대구광역시 동구 갓바위로 227갓바위공영3주차장(진인동 123-74 갓바위공영3주차장)</td>\n",
       "      <td>1</td>\n",
       "      <td>AC완속</td>\n",
       "      <td>7kW</td>\n",
       "      <td>128.725650</td>\n",
       "      <td>35.971134</td>\n",
       "      <td>POINT (1110507.826 1775626.160)</td>\n",
       "      <td>6.0</td>\n",
       "      <td>6.0</td>\n",
       "    </tr>\n",
       "    <tr>\n",
       "      <th>3</th>\n",
       "      <td>갓바위공영3주차장</td>\n",
       "      <td>대구광역시 동구 갓바위로 227갓바위공영3주차장(진인동 123-74 갓바위공영3주차장)</td>\n",
       "      <td>2</td>\n",
       "      <td>AC완속</td>\n",
       "      <td>7kW</td>\n",
       "      <td>128.725650</td>\n",
       "      <td>35.971134</td>\n",
       "      <td>POINT (1110507.826 1775626.160)</td>\n",
       "      <td>6.0</td>\n",
       "      <td>6.0</td>\n",
       "    </tr>\n",
       "    <tr>\n",
       "      <th>4</th>\n",
       "      <td>갓바위공영3주차장</td>\n",
       "      <td>대구광역시 동구 갓바위로 227갓바위공영3주차장(진인동 123-74 갓바위공영3주차장)</td>\n",
       "      <td>3</td>\n",
       "      <td>AC완속</td>\n",
       "      <td>7kW</td>\n",
       "      <td>128.725650</td>\n",
       "      <td>35.971134</td>\n",
       "      <td>POINT (1110507.826 1775626.160)</td>\n",
       "      <td>6.0</td>\n",
       "      <td>6.0</td>\n",
       "    </tr>\n",
       "  </tbody>\n",
       "</table>\n",
       "</div>"
      ],
      "text/plain": [
       "         충전소명                                                주소  ID  \\\n",
       "0    DTC섬유박물관              대구광역시 동구 팔공로 227DTC섬유박물관(봉무동 1560-1)   1   \n",
       "1  가창면 행정복지센터        대구광역시 달성군 가창면 가창로 1100가창면행정복지센터(82 가창면사무소)   1   \n",
       "2   갓바위공영3주차장  대구광역시 동구 갓바위로 227갓바위공영3주차장(진인동 123-74 갓바위공영3주차장)   1   \n",
       "3   갓바위공영3주차장  대구광역시 동구 갓바위로 227갓바위공영3주차장(진인동 123-74 갓바위공영3주차장)   2   \n",
       "4   갓바위공영3주차장  대구광역시 동구 갓바위로 227갓바위공영3주차장(진인동 123-74 갓바위공영3주차장)   3   \n",
       "\n",
       "            충전기 형태 충전기 용량           x          y  \\\n",
       "0  DC차데모+AC3상+DC콤보   50kW  128.640025  35.919199   \n",
       "1             AC완속    7kW  128.622956  35.802585   \n",
       "2             AC완속    7kW  128.725650  35.971134   \n",
       "3             AC완속    7kW  128.725650  35.971134   \n",
       "4             AC완속    7kW  128.725650  35.971134   \n",
       "\n",
       "                          geometry  index_right   id  \n",
       "0  POINT (1102854.579 1769771.861)          6.0  6.0  \n",
       "1  POINT (1101463.068 1756819.334)          0.0  0.0  \n",
       "2  POINT (1110507.826 1775626.160)          6.0  6.0  \n",
       "3  POINT (1110507.826 1775626.160)          6.0  6.0  \n",
       "4  POINT (1110507.826 1775626.160)          6.0  6.0  "
      ]
     },
     "execution_count": 320,
     "metadata": {},
     "output_type": "execute_result"
    }
   ],
   "source": [
    "joined = gpd.sjoin(data, sgg[[\"id\", \"geometry\"]], how=\"left\", predicate=\"intersects\")\n",
    "joined.head()"
   ]
  },
  {
   "cell_type": "markdown",
   "metadata": {},
   "source": [
    "ID별 개수 카운트"
   ]
  },
  {
   "cell_type": "code",
   "execution_count": 321,
   "metadata": {},
   "outputs": [
    {
     "data": {
      "text/html": [
       "<div>\n",
       "<style scoped>\n",
       "    .dataframe tbody tr th:only-of-type {\n",
       "        vertical-align: middle;\n",
       "    }\n",
       "\n",
       "    .dataframe tbody tr th {\n",
       "        vertical-align: top;\n",
       "    }\n",
       "\n",
       "    .dataframe thead th {\n",
       "        text-align: right;\n",
       "    }\n",
       "</style>\n",
       "<table border=\"1\" class=\"dataframe\">\n",
       "  <thead>\n",
       "    <tr style=\"text-align: right;\">\n",
       "      <th></th>\n",
       "      <th>id</th>\n",
       "      <th>count</th>\n",
       "    </tr>\n",
       "  </thead>\n",
       "  <tbody>\n",
       "    <tr>\n",
       "      <th>0</th>\n",
       "      <td>0.0</td>\n",
       "      <td>30</td>\n",
       "    </tr>\n",
       "    <tr>\n",
       "      <th>1</th>\n",
       "      <td>1.0</td>\n",
       "      <td>58</td>\n",
       "    </tr>\n",
       "    <tr>\n",
       "      <th>2</th>\n",
       "      <td>2.0</td>\n",
       "      <td>47</td>\n",
       "    </tr>\n",
       "    <tr>\n",
       "      <th>3</th>\n",
       "      <td>3.0</td>\n",
       "      <td>55</td>\n",
       "    </tr>\n",
       "    <tr>\n",
       "      <th>4</th>\n",
       "      <td>4.0</td>\n",
       "      <td>14</td>\n",
       "    </tr>\n",
       "    <tr>\n",
       "      <th>5</th>\n",
       "      <td>5.0</td>\n",
       "      <td>22</td>\n",
       "    </tr>\n",
       "    <tr>\n",
       "      <th>6</th>\n",
       "      <td>6.0</td>\n",
       "      <td>41</td>\n",
       "    </tr>\n",
       "    <tr>\n",
       "      <th>7</th>\n",
       "      <td>7.0</td>\n",
       "      <td>18</td>\n",
       "    </tr>\n",
       "  </tbody>\n",
       "</table>\n",
       "</div>"
      ],
      "text/plain": [
       "    id  count\n",
       "0  0.0     30\n",
       "1  1.0     58\n",
       "2  2.0     47\n",
       "3  3.0     55\n",
       "4  4.0     14\n",
       "5  5.0     22\n",
       "6  6.0     41\n",
       "7  7.0     18"
      ]
     },
     "execution_count": 321,
     "metadata": {},
     "output_type": "execute_result"
    }
   ],
   "source": [
    "joined[\"count\"] = 1\n",
    "grouped = joined.groupby(\"id\")[[\"count\"]].count()\n",
    "grouped = grouped.reset_index()\n",
    "grouped"
   ]
  },
  {
   "cell_type": "markdown",
   "metadata": {},
   "source": [
    "병합"
   ]
  },
  {
   "cell_type": "code",
   "execution_count": 322,
   "metadata": {},
   "outputs": [
    {
     "data": {
      "text/html": [
       "<div>\n",
       "<style scoped>\n",
       "    .dataframe tbody tr th:only-of-type {\n",
       "        vertical-align: middle;\n",
       "    }\n",
       "\n",
       "    .dataframe tbody tr th {\n",
       "        vertical-align: top;\n",
       "    }\n",
       "\n",
       "    .dataframe thead th {\n",
       "        text-align: right;\n",
       "    }\n",
       "</style>\n",
       "<table border=\"1\" class=\"dataframe\">\n",
       "  <thead>\n",
       "    <tr style=\"text-align: right;\">\n",
       "      <th></th>\n",
       "      <th>ADM_SECT_C</th>\n",
       "      <th>SGG_NM</th>\n",
       "      <th>SGG_OID</th>\n",
       "      <th>COL_ADM_SE</th>\n",
       "      <th>GID</th>\n",
       "      <th>geometry</th>\n",
       "      <th>id</th>\n",
       "      <th>count</th>\n",
       "    </tr>\n",
       "  </thead>\n",
       "  <tbody>\n",
       "    <tr>\n",
       "      <th>0</th>\n",
       "      <td>27710</td>\n",
       "      <td>달성군</td>\n",
       "      <td>None</td>\n",
       "      <td>27710</td>\n",
       "      <td>117</td>\n",
       "      <td>MULTIPOLYGON (((1090134.674 1758418.148, 10902...</td>\n",
       "      <td>0</td>\n",
       "      <td>30</td>\n",
       "    </tr>\n",
       "    <tr>\n",
       "      <th>1</th>\n",
       "      <td>27290</td>\n",
       "      <td>달서구</td>\n",
       "      <td>None</td>\n",
       "      <td>27290</td>\n",
       "      <td>118</td>\n",
       "      <td>POLYGON ((1092002.026 1764133.847, 1092138.506...</td>\n",
       "      <td>1</td>\n",
       "      <td>58</td>\n",
       "    </tr>\n",
       "    <tr>\n",
       "      <th>2</th>\n",
       "      <td>27260</td>\n",
       "      <td>수성구</td>\n",
       "      <td>None</td>\n",
       "      <td>27260</td>\n",
       "      <td>119</td>\n",
       "      <td>POLYGON ((1098629.136 1757517.327, 1098692.133...</td>\n",
       "      <td>2</td>\n",
       "      <td>47</td>\n",
       "    </tr>\n",
       "    <tr>\n",
       "      <th>3</th>\n",
       "      <td>27230</td>\n",
       "      <td>북구</td>\n",
       "      <td>None</td>\n",
       "      <td>27230</td>\n",
       "      <td>120</td>\n",
       "      <td>POLYGON ((1100548.326 1776461.558, 1100558.656...</td>\n",
       "      <td>3</td>\n",
       "      <td>55</td>\n",
       "    </tr>\n",
       "    <tr>\n",
       "      <th>4</th>\n",
       "      <td>27200</td>\n",
       "      <td>남구</td>\n",
       "      <td>None</td>\n",
       "      <td>27200</td>\n",
       "      <td>121</td>\n",
       "      <td>POLYGON ((1097464.450 1762903.002, 1097774.420...</td>\n",
       "      <td>4</td>\n",
       "      <td>14</td>\n",
       "    </tr>\n",
       "    <tr>\n",
       "      <th>5</th>\n",
       "      <td>27170</td>\n",
       "      <td>서구</td>\n",
       "      <td>None</td>\n",
       "      <td>27170</td>\n",
       "      <td>122</td>\n",
       "      <td>POLYGON ((1097653.400 1765932.443, 1097584.742...</td>\n",
       "      <td>5</td>\n",
       "      <td>22</td>\n",
       "    </tr>\n",
       "    <tr>\n",
       "      <th>6</th>\n",
       "      <td>27140</td>\n",
       "      <td>동구</td>\n",
       "      <td>None</td>\n",
       "      <td>27140</td>\n",
       "      <td>123</td>\n",
       "      <td>POLYGON ((1107777.593 1780522.269, 1107845.409...</td>\n",
       "      <td>6</td>\n",
       "      <td>41</td>\n",
       "    </tr>\n",
       "    <tr>\n",
       "      <th>7</th>\n",
       "      <td>27110</td>\n",
       "      <td>중구</td>\n",
       "      <td>None</td>\n",
       "      <td>27110</td>\n",
       "      <td>124</td>\n",
       "      <td>POLYGON ((1099266.034 1764845.475, 1099328.023...</td>\n",
       "      <td>7</td>\n",
       "      <td>18</td>\n",
       "    </tr>\n",
       "  </tbody>\n",
       "</table>\n",
       "</div>"
      ],
      "text/plain": [
       "  ADM_SECT_C SGG_NM SGG_OID COL_ADM_SE  GID  \\\n",
       "0      27710    달성군    None      27710  117   \n",
       "1      27290    달서구    None      27290  118   \n",
       "2      27260    수성구    None      27260  119   \n",
       "3      27230     북구    None      27230  120   \n",
       "4      27200     남구    None      27200  121   \n",
       "5      27170     서구    None      27170  122   \n",
       "6      27140     동구    None      27140  123   \n",
       "7      27110     중구    None      27110  124   \n",
       "\n",
       "                                            geometry  id  count  \n",
       "0  MULTIPOLYGON (((1090134.674 1758418.148, 10902...   0     30  \n",
       "1  POLYGON ((1092002.026 1764133.847, 1092138.506...   1     58  \n",
       "2  POLYGON ((1098629.136 1757517.327, 1098692.133...   2     47  \n",
       "3  POLYGON ((1100548.326 1776461.558, 1100558.656...   3     55  \n",
       "4  POLYGON ((1097464.450 1762903.002, 1097774.420...   4     14  \n",
       "5  POLYGON ((1097653.400 1765932.443, 1097584.742...   5     22  \n",
       "6  POLYGON ((1107777.593 1780522.269, 1107845.409...   6     41  \n",
       "7  POLYGON ((1099266.034 1764845.475, 1099328.023...   7     18  "
      ]
     },
     "execution_count": 322,
     "metadata": {},
     "output_type": "execute_result"
    }
   ],
   "source": [
    "result = pd.merge(sgg, grouped, on=\"id\", how=\"left\")\n",
    "result"
   ]
  },
  {
   "cell_type": "markdown",
   "metadata": {},
   "source": [
    "결과 시각화"
   ]
  },
  {
   "cell_type": "code",
   "execution_count": 323,
   "metadata": {},
   "outputs": [
    {
     "data": {
      "image/png": "[encoded data removed]",
      "text/plain": [
       "<Figure size 640x480 with 1 Axes>"
      ]
     },
     "metadata": {},
     "output_type": "display_data"
    }
   ],
   "source": [
    "ax = result.plot(column=\"count\", legend=True, scheme=\"quantiles\", cmap=\"Blues\", k=5)\n",
    "ax.set_axis_off()\n",
    "ax.set_title(\"대구시 구군별 충전소 분포\")\n",
    "plt.show()"
   ]
  },
  {
   "cell_type": "markdown",
   "metadata": {},
   "source": [
    "**실습**\n",
    "- 대구시 읍면동(법정동) 파일 불러오기\n",
    "- 읍면동(법정동)별 충전소 수 카운트\n",
    "- 충전소 수 기준으로 시각화"
   ]
  },
  {
   "cell_type": "code",
   "execution_count": 324,
   "metadata": {},
   "outputs": [
    {
     "data": {
      "text/html": [
       "<div>\n",
       "<style scoped>\n",
       "    .dataframe tbody tr th:only-of-type {\n",
       "        vertical-align: middle;\n",
       "    }\n",
       "\n",
       "    .dataframe tbody tr th {\n",
       "        vertical-align: top;\n",
       "    }\n",
       "\n",
       "    .dataframe thead th {\n",
       "        text-align: right;\n",
       "    }\n",
       "</style>\n",
       "<table border=\"1\" class=\"dataframe\">\n",
       "  <thead>\n",
       "    <tr style=\"text-align: right;\">\n",
       "      <th></th>\n",
       "      <th>EMD_CD</th>\n",
       "      <th>COL_ADM_SE</th>\n",
       "      <th>EMD_NM</th>\n",
       "      <th>SGG_OID</th>\n",
       "      <th>geometry</th>\n",
       "      <th>id</th>\n",
       "    </tr>\n",
       "  </thead>\n",
       "  <tbody>\n",
       "    <tr>\n",
       "      <th>0</th>\n",
       "      <td>27110101</td>\n",
       "      <td>27110</td>\n",
       "      <td>동인동1가</td>\n",
       "      <td>534</td>\n",
       "      <td>POLYGON ((1099906.269 1764700.534, 1099896.616...</td>\n",
       "      <td>0</td>\n",
       "    </tr>\n",
       "    <tr>\n",
       "      <th>1</th>\n",
       "      <td>27110102</td>\n",
       "      <td>27110</td>\n",
       "      <td>동인동2가</td>\n",
       "      <td>535</td>\n",
       "      <td>POLYGON ((1099361.709 1764418.397, 1099375.534...</td>\n",
       "      <td>1</td>\n",
       "    </tr>\n",
       "    <tr>\n",
       "      <th>2</th>\n",
       "      <td>27110103</td>\n",
       "      <td>27110</td>\n",
       "      <td>동인동3가</td>\n",
       "      <td>536</td>\n",
       "      <td>POLYGON ((1100221.347 1764840.322, 1100266.053...</td>\n",
       "      <td>2</td>\n",
       "    </tr>\n",
       "    <tr>\n",
       "      <th>3</th>\n",
       "      <td>27110104</td>\n",
       "      <td>27110</td>\n",
       "      <td>동인동4가</td>\n",
       "      <td>537</td>\n",
       "      <td>POLYGON ((1100597.124 1764210.863, 1100640.315...</td>\n",
       "      <td>3</td>\n",
       "    </tr>\n",
       "    <tr>\n",
       "      <th>4</th>\n",
       "      <td>27110105</td>\n",
       "      <td>27110</td>\n",
       "      <td>삼덕동1가</td>\n",
       "      <td>538</td>\n",
       "      <td>POLYGON ((1098895.448 1764086.793, 1098934.353...</td>\n",
       "      <td>4</td>\n",
       "    </tr>\n",
       "    <tr>\n",
       "      <th>...</th>\n",
       "      <td>...</td>\n",
       "      <td>...</td>\n",
       "      <td>...</td>\n",
       "      <td>...</td>\n",
       "      <td>...</td>\n",
       "      <td>...</td>\n",
       "    </tr>\n",
       "    <tr>\n",
       "      <th>207</th>\n",
       "      <td>27720330</td>\n",
       "      <td>27720</td>\n",
       "      <td>부계면</td>\n",
       "      <td>418</td>\n",
       "      <td>POLYGON ((1105127.967 1792638.120, 1105248.139...</td>\n",
       "      <td>207</td>\n",
       "    </tr>\n",
       "    <tr>\n",
       "      <th>208</th>\n",
       "      <td>27720340</td>\n",
       "      <td>27720</td>\n",
       "      <td>우보면</td>\n",
       "      <td>419</td>\n",
       "      <td>POLYGON ((1104481.109 1803197.883, 1104473.689...</td>\n",
       "      <td>208</td>\n",
       "    </tr>\n",
       "    <tr>\n",
       "      <th>209</th>\n",
       "      <td>27720350</td>\n",
       "      <td>27720</td>\n",
       "      <td>의흥면</td>\n",
       "      <td>420</td>\n",
       "      <td>POLYGON ((1113090.973 1801365.681, 1113151.144...</td>\n",
       "      <td>209</td>\n",
       "    </tr>\n",
       "    <tr>\n",
       "      <th>210</th>\n",
       "      <td>27720360</td>\n",
       "      <td>27720</td>\n",
       "      <td>산성면</td>\n",
       "      <td>421</td>\n",
       "      <td>POLYGON ((1109794.169 1795517.527, 1109810.047...</td>\n",
       "      <td>210</td>\n",
       "    </tr>\n",
       "    <tr>\n",
       "      <th>211</th>\n",
       "      <td>27720370</td>\n",
       "      <td>27720</td>\n",
       "      <td>삼국유사면</td>\n",
       "      <td>422</td>\n",
       "      <td>POLYGON ((1119232.345 1803155.740, 1119430.242...</td>\n",
       "      <td>211</td>\n",
       "    </tr>\n",
       "  </tbody>\n",
       "</table>\n",
       "<p>212 rows × 6 columns</p>\n",
       "</div>"
      ],
      "text/plain": [
       "       EMD_CD COL_ADM_SE EMD_NM  SGG_OID  \\\n",
       "0    27110101      27110  동인동1가      534   \n",
       "1    27110102      27110  동인동2가      535   \n",
       "2    27110103      27110  동인동3가      536   \n",
       "3    27110104      27110  동인동4가      537   \n",
       "4    27110105      27110  삼덕동1가      538   \n",
       "..        ...        ...    ...      ...   \n",
       "207  27720330      27720    부계면      418   \n",
       "208  27720340      27720    우보면      419   \n",
       "209  27720350      27720    의흥면      420   \n",
       "210  27720360      27720    산성면      421   \n",
       "211  27720370      27720  삼국유사면      422   \n",
       "\n",
       "                                              geometry   id  \n",
       "0    POLYGON ((1099906.269 1764700.534, 1099896.616...    0  \n",
       "1    POLYGON ((1099361.709 1764418.397, 1099375.534...    1  \n",
       "2    POLYGON ((1100221.347 1764840.322, 1100266.053...    2  \n",
       "3    POLYGON ((1100597.124 1764210.863, 1100640.315...    3  \n",
       "4    POLYGON ((1098895.448 1764086.793, 1098934.353...    4  \n",
       "..                                                 ...  ...  \n",
       "207  POLYGON ((1105127.967 1792638.120, 1105248.139...  207  \n",
       "208  POLYGON ((1104481.109 1803197.883, 1104473.689...  208  \n",
       "209  POLYGON ((1113090.973 1801365.681, 1113151.144...  209  \n",
       "210  POLYGON ((1109794.169 1795517.527, 1109810.047...  210  \n",
       "211  POLYGON ((1119232.345 1803155.740, 1119430.242...  211  \n",
       "\n",
       "[212 rows x 6 columns]"
      ]
     },
     "execution_count": 324,
     "metadata": {},
     "output_type": "execute_result"
    }
   ],
   "source": [
    "bjd[\"id\"] = bjd.index\n",
    "bjd"
   ]
  },
  {
   "cell_type": "code",
   "execution_count": 325,
   "metadata": {},
   "outputs": [
    {
     "data": {
      "text/html": [
       "<div>\n",
       "<style scoped>\n",
       "    .dataframe tbody tr th:only-of-type {\n",
       "        vertical-align: middle;\n",
       "    }\n",
       "\n",
       "    .dataframe tbody tr th {\n",
       "        vertical-align: top;\n",
       "    }\n",
       "\n",
       "    .dataframe thead th {\n",
       "        text-align: right;\n",
       "    }\n",
       "</style>\n",
       "<table border=\"1\" class=\"dataframe\">\n",
       "  <thead>\n",
       "    <tr style=\"text-align: right;\">\n",
       "      <th></th>\n",
       "      <th>충전소명</th>\n",
       "      <th>주소</th>\n",
       "      <th>ID</th>\n",
       "      <th>충전기 형태</th>\n",
       "      <th>충전기 용량</th>\n",
       "      <th>x</th>\n",
       "      <th>y</th>\n",
       "      <th>geometry</th>\n",
       "      <th>index_right</th>\n",
       "      <th>id</th>\n",
       "    </tr>\n",
       "  </thead>\n",
       "  <tbody>\n",
       "    <tr>\n",
       "      <th>0</th>\n",
       "      <td>DTC섬유박물관</td>\n",
       "      <td>대구광역시 동구 팔공로 227DTC섬유박물관(봉무동 1560-1)</td>\n",
       "      <td>1</td>\n",
       "      <td>DC차데모+AC3상+DC콤보</td>\n",
       "      <td>50kW</td>\n",
       "      <td>128.640025</td>\n",
       "      <td>35.919199</td>\n",
       "      <td>POINT (1102854.579 1769771.861)</td>\n",
       "      <td>61.0</td>\n",
       "      <td>61.0</td>\n",
       "    </tr>\n",
       "    <tr>\n",
       "      <th>1</th>\n",
       "      <td>가창면 행정복지센터</td>\n",
       "      <td>대구광역시 달성군 가창면 가창로 1100가창면행정복지센터(82 가창면사무소)</td>\n",
       "      <td>1</td>\n",
       "      <td>AC완속</td>\n",
       "      <td>7kW</td>\n",
       "      <td>128.622956</td>\n",
       "      <td>35.802585</td>\n",
       "      <td>POINT (1101463.068 1756819.334)</td>\n",
       "      <td>201.0</td>\n",
       "      <td>201.0</td>\n",
       "    </tr>\n",
       "    <tr>\n",
       "      <th>2</th>\n",
       "      <td>갓바위공영3주차장</td>\n",
       "      <td>대구광역시 동구 갓바위로 227갓바위공영3주차장(진인동 123-74 갓바위공영3주차장)</td>\n",
       "      <td>1</td>\n",
       "      <td>AC완속</td>\n",
       "      <td>7kW</td>\n",
       "      <td>128.725650</td>\n",
       "      <td>35.971134</td>\n",
       "      <td>POINT (1110507.826 1775626.160)</td>\n",
       "      <td>89.0</td>\n",
       "      <td>89.0</td>\n",
       "    </tr>\n",
       "    <tr>\n",
       "      <th>3</th>\n",
       "      <td>갓바위공영3주차장</td>\n",
       "      <td>대구광역시 동구 갓바위로 227갓바위공영3주차장(진인동 123-74 갓바위공영3주차장)</td>\n",
       "      <td>2</td>\n",
       "      <td>AC완속</td>\n",
       "      <td>7kW</td>\n",
       "      <td>128.725650</td>\n",
       "      <td>35.971134</td>\n",
       "      <td>POINT (1110507.826 1775626.160)</td>\n",
       "      <td>89.0</td>\n",
       "      <td>89.0</td>\n",
       "    </tr>\n",
       "    <tr>\n",
       "      <th>4</th>\n",
       "      <td>갓바위공영3주차장</td>\n",
       "      <td>대구광역시 동구 갓바위로 227갓바위공영3주차장(진인동 123-74 갓바위공영3주차장)</td>\n",
       "      <td>3</td>\n",
       "      <td>AC완속</td>\n",
       "      <td>7kW</td>\n",
       "      <td>128.725650</td>\n",
       "      <td>35.971134</td>\n",
       "      <td>POINT (1110507.826 1775626.160)</td>\n",
       "      <td>89.0</td>\n",
       "      <td>89.0</td>\n",
       "    </tr>\n",
       "  </tbody>\n",
       "</table>\n",
       "</div>"
      ],
      "text/plain": [
       "         충전소명                                                주소  ID  \\\n",
       "0    DTC섬유박물관              대구광역시 동구 팔공로 227DTC섬유박물관(봉무동 1560-1)   1   \n",
       "1  가창면 행정복지센터        대구광역시 달성군 가창면 가창로 1100가창면행정복지센터(82 가창면사무소)   1   \n",
       "2   갓바위공영3주차장  대구광역시 동구 갓바위로 227갓바위공영3주차장(진인동 123-74 갓바위공영3주차장)   1   \n",
       "3   갓바위공영3주차장  대구광역시 동구 갓바위로 227갓바위공영3주차장(진인동 123-74 갓바위공영3주차장)   2   \n",
       "4   갓바위공영3주차장  대구광역시 동구 갓바위로 227갓바위공영3주차장(진인동 123-74 갓바위공영3주차장)   3   \n",
       "\n",
       "            충전기 형태 충전기 용량           x          y  \\\n",
       "0  DC차데모+AC3상+DC콤보   50kW  128.640025  35.919199   \n",
       "1             AC완속    7kW  128.622956  35.802585   \n",
       "2             AC완속    7kW  128.725650  35.971134   \n",
       "3             AC완속    7kW  128.725650  35.971134   \n",
       "4             AC완속    7kW  128.725650  35.971134   \n",
       "\n",
       "                          geometry  index_right     id  \n",
       "0  POINT (1102854.579 1769771.861)         61.0   61.0  \n",
       "1  POINT (1101463.068 1756819.334)        201.0  201.0  \n",
       "2  POINT (1110507.826 1775626.160)         89.0   89.0  \n",
       "3  POINT (1110507.826 1775626.160)         89.0   89.0  \n",
       "4  POINT (1110507.826 1775626.160)         89.0   89.0  "
      ]
     },
     "execution_count": 325,
     "metadata": {},
     "output_type": "execute_result"
    }
   ],
   "source": [
    "joined = gpd.sjoin(data, bjd[[\"id\", \"geometry\"]], how=\"left\", predicate=\"intersects\")\n",
    "joined.head()"
   ]
  },
  {
   "cell_type": "code",
   "execution_count": 326,
   "metadata": {},
   "outputs": [
    {
     "data": {
      "text/html": [
       "<div>\n",
       "<style scoped>\n",
       "    .dataframe tbody tr th:only-of-type {\n",
       "        vertical-align: middle;\n",
       "    }\n",
       "\n",
       "    .dataframe tbody tr th {\n",
       "        vertical-align: top;\n",
       "    }\n",
       "\n",
       "    .dataframe thead th {\n",
       "        text-align: right;\n",
       "    }\n",
       "</style>\n",
       "<table border=\"1\" class=\"dataframe\">\n",
       "  <thead>\n",
       "    <tr style=\"text-align: right;\">\n",
       "      <th></th>\n",
       "      <th>id</th>\n",
       "      <th>count</th>\n",
       "    </tr>\n",
       "  </thead>\n",
       "  <tbody>\n",
       "    <tr>\n",
       "      <th>0</th>\n",
       "      <td>0.0</td>\n",
       "      <td>3</td>\n",
       "    </tr>\n",
       "    <tr>\n",
       "      <th>1</th>\n",
       "      <td>1.0</td>\n",
       "      <td>4</td>\n",
       "    </tr>\n",
       "    <tr>\n",
       "      <th>2</th>\n",
       "      <td>3.0</td>\n",
       "      <td>1</td>\n",
       "    </tr>\n",
       "    <tr>\n",
       "      <th>3</th>\n",
       "      <td>6.0</td>\n",
       "      <td>1</td>\n",
       "    </tr>\n",
       "    <tr>\n",
       "      <th>4</th>\n",
       "      <td>53.0</td>\n",
       "      <td>5</td>\n",
       "    </tr>\n",
       "    <tr>\n",
       "      <th>...</th>\n",
       "      <td>...</td>\n",
       "      <td>...</td>\n",
       "    </tr>\n",
       "    <tr>\n",
       "      <th>88</th>\n",
       "      <td>199.0</td>\n",
       "      <td>3</td>\n",
       "    </tr>\n",
       "    <tr>\n",
       "      <th>89</th>\n",
       "      <td>200.0</td>\n",
       "      <td>1</td>\n",
       "    </tr>\n",
       "    <tr>\n",
       "      <th>90</th>\n",
       "      <td>201.0</td>\n",
       "      <td>1</td>\n",
       "    </tr>\n",
       "    <tr>\n",
       "      <th>91</th>\n",
       "      <td>202.0</td>\n",
       "      <td>1</td>\n",
       "    </tr>\n",
       "    <tr>\n",
       "      <th>92</th>\n",
       "      <td>203.0</td>\n",
       "      <td>3</td>\n",
       "    </tr>\n",
       "  </tbody>\n",
       "</table>\n",
       "<p>93 rows × 2 columns</p>\n",
       "</div>"
      ],
      "text/plain": [
       "       id  count\n",
       "0     0.0      3\n",
       "1     1.0      4\n",
       "2     3.0      1\n",
       "3     6.0      1\n",
       "4    53.0      5\n",
       "..    ...    ...\n",
       "88  199.0      3\n",
       "89  200.0      1\n",
       "90  201.0      1\n",
       "91  202.0      1\n",
       "92  203.0      3\n",
       "\n",
       "[93 rows x 2 columns]"
      ]
     },
     "execution_count": 326,
     "metadata": {},
     "output_type": "execute_result"
    }
   ],
   "source": [
    "joined[\"count\"] = 1\n",
    "grouped = joined.groupby(\"id\")[[\"count\"]].count()\n",
    "grouped = grouped.reset_index()\n",
    "grouped"
   ]
  },
  {
   "cell_type": "code",
   "execution_count": 327,
   "metadata": {},
   "outputs": [
    {
     "data": {
      "text/html": [
       "<div>\n",
       "<style scoped>\n",
       "    .dataframe tbody tr th:only-of-type {\n",
       "        vertical-align: middle;\n",
       "    }\n",
       "\n",
       "    .dataframe tbody tr th {\n",
       "        vertical-align: top;\n",
       "    }\n",
       "\n",
       "    .dataframe thead th {\n",
       "        text-align: right;\n",
       "    }\n",
       "</style>\n",
       "<table border=\"1\" class=\"dataframe\">\n",
       "  <thead>\n",
       "    <tr style=\"text-align: right;\">\n",
       "      <th></th>\n",
       "      <th>EMD_CD</th>\n",
       "      <th>COL_ADM_SE</th>\n",
       "      <th>EMD_NM</th>\n",
       "      <th>SGG_OID</th>\n",
       "      <th>geometry</th>\n",
       "      <th>id</th>\n",
       "      <th>count</th>\n",
       "    </tr>\n",
       "  </thead>\n",
       "  <tbody>\n",
       "    <tr>\n",
       "      <th>0</th>\n",
       "      <td>27110101</td>\n",
       "      <td>27110</td>\n",
       "      <td>동인동1가</td>\n",
       "      <td>534</td>\n",
       "      <td>POLYGON ((1099906.269 1764700.534, 1099896.616...</td>\n",
       "      <td>0</td>\n",
       "      <td>3.0</td>\n",
       "    </tr>\n",
       "    <tr>\n",
       "      <th>1</th>\n",
       "      <td>27110102</td>\n",
       "      <td>27110</td>\n",
       "      <td>동인동2가</td>\n",
       "      <td>535</td>\n",
       "      <td>POLYGON ((1099361.709 1764418.397, 1099375.534...</td>\n",
       "      <td>1</td>\n",
       "      <td>4.0</td>\n",
       "    </tr>\n",
       "    <tr>\n",
       "      <th>2</th>\n",
       "      <td>27110103</td>\n",
       "      <td>27110</td>\n",
       "      <td>동인동3가</td>\n",
       "      <td>536</td>\n",
       "      <td>POLYGON ((1100221.347 1764840.322, 1100266.053...</td>\n",
       "      <td>2</td>\n",
       "      <td>NaN</td>\n",
       "    </tr>\n",
       "    <tr>\n",
       "      <th>3</th>\n",
       "      <td>27110104</td>\n",
       "      <td>27110</td>\n",
       "      <td>동인동4가</td>\n",
       "      <td>537</td>\n",
       "      <td>POLYGON ((1100597.124 1764210.863, 1100640.315...</td>\n",
       "      <td>3</td>\n",
       "      <td>1.0</td>\n",
       "    </tr>\n",
       "    <tr>\n",
       "      <th>4</th>\n",
       "      <td>27110105</td>\n",
       "      <td>27110</td>\n",
       "      <td>삼덕동1가</td>\n",
       "      <td>538</td>\n",
       "      <td>POLYGON ((1098895.448 1764086.793, 1098934.353...</td>\n",
       "      <td>4</td>\n",
       "      <td>NaN</td>\n",
       "    </tr>\n",
       "    <tr>\n",
       "      <th>...</th>\n",
       "      <td>...</td>\n",
       "      <td>...</td>\n",
       "      <td>...</td>\n",
       "      <td>...</td>\n",
       "      <td>...</td>\n",
       "      <td>...</td>\n",
       "      <td>...</td>\n",
       "    </tr>\n",
       "    <tr>\n",
       "      <th>207</th>\n",
       "      <td>27720330</td>\n",
       "      <td>27720</td>\n",
       "      <td>부계면</td>\n",
       "      <td>418</td>\n",
       "      <td>POLYGON ((1105127.967 1792638.120, 1105248.139...</td>\n",
       "      <td>207</td>\n",
       "      <td>NaN</td>\n",
       "    </tr>\n",
       "    <tr>\n",
       "      <th>208</th>\n",
       "      <td>27720340</td>\n",
       "      <td>27720</td>\n",
       "      <td>우보면</td>\n",
       "      <td>419</td>\n",
       "      <td>POLYGON ((1104481.109 1803197.883, 1104473.689...</td>\n",
       "      <td>208</td>\n",
       "      <td>NaN</td>\n",
       "    </tr>\n",
       "    <tr>\n",
       "      <th>209</th>\n",
       "      <td>27720350</td>\n",
       "      <td>27720</td>\n",
       "      <td>의흥면</td>\n",
       "      <td>420</td>\n",
       "      <td>POLYGON ((1113090.973 1801365.681, 1113151.144...</td>\n",
       "      <td>209</td>\n",
       "      <td>NaN</td>\n",
       "    </tr>\n",
       "    <tr>\n",
       "      <th>210</th>\n",
       "      <td>27720360</td>\n",
       "      <td>27720</td>\n",
       "      <td>산성면</td>\n",
       "      <td>421</td>\n",
       "      <td>POLYGON ((1109794.169 1795517.527, 1109810.047...</td>\n",
       "      <td>210</td>\n",
       "      <td>NaN</td>\n",
       "    </tr>\n",
       "    <tr>\n",
       "      <th>211</th>\n",
       "      <td>27720370</td>\n",
       "      <td>27720</td>\n",
       "      <td>삼국유사면</td>\n",
       "      <td>422</td>\n",
       "      <td>POLYGON ((1119232.345 1803155.740, 1119430.242...</td>\n",
       "      <td>211</td>\n",
       "      <td>NaN</td>\n",
       "    </tr>\n",
       "  </tbody>\n",
       "</table>\n",
       "<p>212 rows × 7 columns</p>\n",
       "</div>"
      ],
      "text/plain": [
       "       EMD_CD COL_ADM_SE EMD_NM  SGG_OID  \\\n",
       "0    27110101      27110  동인동1가      534   \n",
       "1    27110102      27110  동인동2가      535   \n",
       "2    27110103      27110  동인동3가      536   \n",
       "3    27110104      27110  동인동4가      537   \n",
       "4    27110105      27110  삼덕동1가      538   \n",
       "..        ...        ...    ...      ...   \n",
       "207  27720330      27720    부계면      418   \n",
       "208  27720340      27720    우보면      419   \n",
       "209  27720350      27720    의흥면      420   \n",
       "210  27720360      27720    산성면      421   \n",
       "211  27720370      27720  삼국유사면      422   \n",
       "\n",
       "                                              geometry   id  count  \n",
       "0    POLYGON ((1099906.269 1764700.534, 1099896.616...    0    3.0  \n",
       "1    POLYGON ((1099361.709 1764418.397, 1099375.534...    1    4.0  \n",
       "2    POLYGON ((1100221.347 1764840.322, 1100266.053...    2    NaN  \n",
       "3    POLYGON ((1100597.124 1764210.863, 1100640.315...    3    1.0  \n",
       "4    POLYGON ((1098895.448 1764086.793, 1098934.353...    4    NaN  \n",
       "..                                                 ...  ...    ...  \n",
       "207  POLYGON ((1105127.967 1792638.120, 1105248.139...  207    NaN  \n",
       "208  POLYGON ((1104481.109 1803197.883, 1104473.689...  208    NaN  \n",
       "209  POLYGON ((1113090.973 1801365.681, 1113151.144...  209    NaN  \n",
       "210  POLYGON ((1109794.169 1795517.527, 1109810.047...  210    NaN  \n",
       "211  POLYGON ((1119232.345 1803155.740, 1119430.242...  211    NaN  \n",
       "\n",
       "[212 rows x 7 columns]"
      ]
     },
     "execution_count": 327,
     "metadata": {},
     "output_type": "execute_result"
    }
   ],
   "source": [
    "result = pd.merge(bjd, grouped, on=\"id\", how=\"left\")\n",
    "result"
   ]
  },
  {
   "cell_type": "code",
   "execution_count": 328,
   "metadata": {},
   "outputs": [
    {
     "data": {
      "image/png": "[encoded data removed]",
      "text/plain": [
       "<Figure size 640x480 with 1 Axes>"
      ]
     },
     "metadata": {},
     "output_type": "display_data"
    }
   ],
   "source": [
    "ax = result.plot(column=\"count\", legend=True, scheme=\"quantiles\", cmap=\"Blues\", k=5)\n",
    "ax.set_axis_off()\n",
    "ax.set_title(\"대구시 구군별 충전소 분포\")\n",
    "plt.show()"
   ]
  }
 ],
 "metadata": {
  "kernelspec": {
   "display_name": "gpd",
   "language": "python",
   "name": "python3"
  },
  "language_info": {
   "codemirror_mode": {
    "name": "ipython",
    "version": 3
   },
   "file_extension": ".py",
   "mimetype": "text/x-python",
   "name": "python",
   "nbconvert_exporter": "python",
   "pygments_lexer": "ipython3",
   "version": "3.10.9"
  }
 },
 "nbformat": 4,
 "nbformat_minor": 2
}
